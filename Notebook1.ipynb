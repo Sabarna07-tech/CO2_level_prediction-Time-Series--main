{
 "cells": [
  {
   "cell_type": "code",
   "execution_count": 2,
   "id": "2a41f416",
   "metadata": {},
   "outputs": [],
   "source": [
    "import pandas as pd\n",
    "import matplotlib.pyplot as plt\n",
    "import numpy as np"
   ]
  },
  {
   "cell_type": "code",
   "execution_count": 4,
   "id": "92a628cc",
   "metadata": {},
   "outputs": [
    {
     "data": {
      "text/html": [
       "<div>\n",
       "<style scoped>\n",
       "    .dataframe tbody tr th:only-of-type {\n",
       "        vertical-align: middle;\n",
       "    }\n",
       "\n",
       "    .dataframe tbody tr th {\n",
       "        vertical-align: top;\n",
       "    }\n",
       "\n",
       "    .dataframe thead th {\n",
       "        text-align: right;\n",
       "    }\n",
       "</style>\n",
       "<table border=\"1\" class=\"dataframe\">\n",
       "  <thead>\n",
       "    <tr style=\"text-align: right;\">\n",
       "      <th></th>\n",
       "      <th>Month</th>\n",
       "      <th>Indicator</th>\n",
       "      <th>Value</th>\n",
       "      <th>Unit</th>\n",
       "    </tr>\n",
       "    <tr>\n",
       "      <th>Year</th>\n",
       "      <th></th>\n",
       "      <th></th>\n",
       "      <th></th>\n",
       "      <th></th>\n",
       "    </tr>\n",
       "  </thead>\n",
       "  <tbody>\n",
       "    <tr>\n",
       "      <th>2026</th>\n",
       "      <td>April</td>\n",
       "      <td>CO2 levels</td>\n",
       "      <td>405.67</td>\n",
       "      <td>PPM</td>\n",
       "    </tr>\n",
       "    <tr>\n",
       "      <th>2035</th>\n",
       "      <td>July</td>\n",
       "      <td>CO2 levels</td>\n",
       "      <td>423.20</td>\n",
       "      <td>PPM</td>\n",
       "    </tr>\n",
       "    <tr>\n",
       "      <th>2044</th>\n",
       "      <td>December</td>\n",
       "      <td>CO2 levels</td>\n",
       "      <td>445.10</td>\n",
       "      <td>PPM</td>\n",
       "    </tr>\n",
       "    <tr>\n",
       "      <th>2023</th>\n",
       "      <td>January</td>\n",
       "      <td>CO2 levels</td>\n",
       "      <td>396.04</td>\n",
       "      <td>PPM</td>\n",
       "    </tr>\n",
       "    <tr>\n",
       "      <th>2027</th>\n",
       "      <td>July</td>\n",
       "      <td>CO2 levels</td>\n",
       "      <td>406.57</td>\n",
       "      <td>PPM</td>\n",
       "    </tr>\n",
       "    <tr>\n",
       "      <th>...</th>\n",
       "      <td>...</td>\n",
       "      <td>...</td>\n",
       "      <td>...</td>\n",
       "      <td>...</td>\n",
       "    </tr>\n",
       "    <tr>\n",
       "      <th>2043</th>\n",
       "      <td>August</td>\n",
       "      <td>CO2 levels</td>\n",
       "      <td>439.02</td>\n",
       "      <td>PPM</td>\n",
       "    </tr>\n",
       "    <tr>\n",
       "      <th>2035</th>\n",
       "      <td>August</td>\n",
       "      <td>CO2 levels</td>\n",
       "      <td>420.46</td>\n",
       "      <td>PPM</td>\n",
       "    </tr>\n",
       "    <tr>\n",
       "      <th>2048</th>\n",
       "      <td>December</td>\n",
       "      <td>CO2 levels</td>\n",
       "      <td>455.69</td>\n",
       "      <td>PPM</td>\n",
       "    </tr>\n",
       "    <tr>\n",
       "      <th>2004</th>\n",
       "      <td>October</td>\n",
       "      <td>CO2 levels</td>\n",
       "      <td>361.59</td>\n",
       "      <td>PPM</td>\n",
       "    </tr>\n",
       "    <tr>\n",
       "      <th>2047</th>\n",
       "      <td>March</td>\n",
       "      <td>CO2 levels</td>\n",
       "      <td>453.40</td>\n",
       "      <td>PPM</td>\n",
       "    </tr>\n",
       "  </tbody>\n",
       "</table>\n",
       "<p>754 rows × 4 columns</p>\n",
       "</div>"
      ],
      "text/plain": [
       "         Month   Indicator   Value Unit\n",
       "Year                                   \n",
       "2026     April  CO2 levels  405.67  PPM\n",
       "2035      July  CO2 levels  423.20  PPM\n",
       "2044  December  CO2 levels  445.10  PPM\n",
       "2023   January  CO2 levels  396.04  PPM\n",
       "2027      July  CO2 levels  406.57  PPM\n",
       "...        ...         ...     ...  ...\n",
       "2043    August  CO2 levels  439.02  PPM\n",
       "2035    August  CO2 levels  420.46  PPM\n",
       "2048  December  CO2 levels  455.69  PPM\n",
       "2004   October  CO2 levels  361.59  PPM\n",
       "2047     March  CO2 levels  453.40  PPM\n",
       "\n",
       "[754 rows x 4 columns]"
      ]
     },
     "execution_count": 4,
     "metadata": {},
     "output_type": "execute_result"
    }
   ],
   "source": [
    "df = pd.read_csv(\"train.csv\")\n",
    "df.index = df['Year']\n",
    "df.drop('Year',axis=1,inplace=True)\n",
    "df"
   ]
  },
  {
   "cell_type": "code",
   "execution_count": 5,
   "id": "0f0e495d",
   "metadata": {},
   "outputs": [
    {
     "data": {
      "text/html": [
       "<div>\n",
       "<style scoped>\n",
       "    .dataframe tbody tr th:only-of-type {\n",
       "        vertical-align: middle;\n",
       "    }\n",
       "\n",
       "    .dataframe tbody tr th {\n",
       "        vertical-align: top;\n",
       "    }\n",
       "\n",
       "    .dataframe thead th {\n",
       "        text-align: right;\n",
       "    }\n",
       "</style>\n",
       "<table border=\"1\" class=\"dataframe\">\n",
       "  <thead>\n",
       "    <tr style=\"text-align: right;\">\n",
       "      <th></th>\n",
       "      <th>id</th>\n",
       "      <th>Month</th>\n",
       "      <th>Indicator</th>\n",
       "      <th>Unit</th>\n",
       "    </tr>\n",
       "    <tr>\n",
       "      <th>Year</th>\n",
       "      <th></th>\n",
       "      <th></th>\n",
       "      <th></th>\n",
       "      <th></th>\n",
       "    </tr>\n",
       "  </thead>\n",
       "  <tbody>\n",
       "    <tr>\n",
       "      <th>2049</th>\n",
       "      <td>0</td>\n",
       "      <td>January</td>\n",
       "      <td>CO2 levels</td>\n",
       "      <td>PPM</td>\n",
       "    </tr>\n",
       "    <tr>\n",
       "      <th>2049</th>\n",
       "      <td>1</td>\n",
       "      <td>February</td>\n",
       "      <td>CO2 levels</td>\n",
       "      <td>PPM</td>\n",
       "    </tr>\n",
       "    <tr>\n",
       "      <th>2049</th>\n",
       "      <td>2</td>\n",
       "      <td>March</td>\n",
       "      <td>CO2 levels</td>\n",
       "      <td>PPM</td>\n",
       "    </tr>\n",
       "    <tr>\n",
       "      <th>2049</th>\n",
       "      <td>3</td>\n",
       "      <td>April</td>\n",
       "      <td>CO2 levels</td>\n",
       "      <td>PPM</td>\n",
       "    </tr>\n",
       "    <tr>\n",
       "      <th>2049</th>\n",
       "      <td>4</td>\n",
       "      <td>May</td>\n",
       "      <td>CO2 levels</td>\n",
       "      <td>PPM</td>\n",
       "    </tr>\n",
       "    <tr>\n",
       "      <th>2049</th>\n",
       "      <td>5</td>\n",
       "      <td>June</td>\n",
       "      <td>CO2 levels</td>\n",
       "      <td>PPM</td>\n",
       "    </tr>\n",
       "    <tr>\n",
       "      <th>2049</th>\n",
       "      <td>6</td>\n",
       "      <td>July</td>\n",
       "      <td>CO2 levels</td>\n",
       "      <td>PPM</td>\n",
       "    </tr>\n",
       "    <tr>\n",
       "      <th>2049</th>\n",
       "      <td>7</td>\n",
       "      <td>August</td>\n",
       "      <td>CO2 levels</td>\n",
       "      <td>PPM</td>\n",
       "    </tr>\n",
       "    <tr>\n",
       "      <th>2049</th>\n",
       "      <td>8</td>\n",
       "      <td>September</td>\n",
       "      <td>CO2 levels</td>\n",
       "      <td>PPM</td>\n",
       "    </tr>\n",
       "    <tr>\n",
       "      <th>2049</th>\n",
       "      <td>9</td>\n",
       "      <td>October</td>\n",
       "      <td>CO2 levels</td>\n",
       "      <td>PPM</td>\n",
       "    </tr>\n",
       "    <tr>\n",
       "      <th>2049</th>\n",
       "      <td>10</td>\n",
       "      <td>November</td>\n",
       "      <td>CO2 levels</td>\n",
       "      <td>PPM</td>\n",
       "    </tr>\n",
       "    <tr>\n",
       "      <th>2049</th>\n",
       "      <td>11</td>\n",
       "      <td>December</td>\n",
       "      <td>CO2 levels</td>\n",
       "      <td>PPM</td>\n",
       "    </tr>\n",
       "    <tr>\n",
       "      <th>2050</th>\n",
       "      <td>12</td>\n",
       "      <td>January</td>\n",
       "      <td>CO2 levels</td>\n",
       "      <td>PPM</td>\n",
       "    </tr>\n",
       "    <tr>\n",
       "      <th>2050</th>\n",
       "      <td>13</td>\n",
       "      <td>February</td>\n",
       "      <td>CO2 levels</td>\n",
       "      <td>PPM</td>\n",
       "    </tr>\n",
       "    <tr>\n",
       "      <th>2050</th>\n",
       "      <td>14</td>\n",
       "      <td>March</td>\n",
       "      <td>CO2 levels</td>\n",
       "      <td>PPM</td>\n",
       "    </tr>\n",
       "    <tr>\n",
       "      <th>2050</th>\n",
       "      <td>15</td>\n",
       "      <td>April</td>\n",
       "      <td>CO2 levels</td>\n",
       "      <td>PPM</td>\n",
       "    </tr>\n",
       "    <tr>\n",
       "      <th>2050</th>\n",
       "      <td>16</td>\n",
       "      <td>May</td>\n",
       "      <td>CO2 levels</td>\n",
       "      <td>PPM</td>\n",
       "    </tr>\n",
       "    <tr>\n",
       "      <th>2050</th>\n",
       "      <td>17</td>\n",
       "      <td>June</td>\n",
       "      <td>CO2 levels</td>\n",
       "      <td>PPM</td>\n",
       "    </tr>\n",
       "    <tr>\n",
       "      <th>2050</th>\n",
       "      <td>18</td>\n",
       "      <td>July</td>\n",
       "      <td>CO2 levels</td>\n",
       "      <td>PPM</td>\n",
       "    </tr>\n",
       "    <tr>\n",
       "      <th>2050</th>\n",
       "      <td>19</td>\n",
       "      <td>August</td>\n",
       "      <td>CO2 levels</td>\n",
       "      <td>PPM</td>\n",
       "    </tr>\n",
       "    <tr>\n",
       "      <th>2050</th>\n",
       "      <td>20</td>\n",
       "      <td>September</td>\n",
       "      <td>CO2 levels</td>\n",
       "      <td>PPM</td>\n",
       "    </tr>\n",
       "    <tr>\n",
       "      <th>2050</th>\n",
       "      <td>21</td>\n",
       "      <td>October</td>\n",
       "      <td>CO2 levels</td>\n",
       "      <td>PPM</td>\n",
       "    </tr>\n",
       "    <tr>\n",
       "      <th>2050</th>\n",
       "      <td>22</td>\n",
       "      <td>November</td>\n",
       "      <td>CO2 levels</td>\n",
       "      <td>PPM</td>\n",
       "    </tr>\n",
       "    <tr>\n",
       "      <th>2050</th>\n",
       "      <td>23</td>\n",
       "      <td>December</td>\n",
       "      <td>CO2 levels</td>\n",
       "      <td>PPM</td>\n",
       "    </tr>\n",
       "  </tbody>\n",
       "</table>\n",
       "</div>"
      ],
      "text/plain": [
       "      id      Month   Indicator Unit\n",
       "Year                                \n",
       "2049   0    January  CO2 levels  PPM\n",
       "2049   1   February  CO2 levels  PPM\n",
       "2049   2      March  CO2 levels  PPM\n",
       "2049   3      April  CO2 levels  PPM\n",
       "2049   4        May  CO2 levels  PPM\n",
       "2049   5       June  CO2 levels  PPM\n",
       "2049   6       July  CO2 levels  PPM\n",
       "2049   7     August  CO2 levels  PPM\n",
       "2049   8  September  CO2 levels  PPM\n",
       "2049   9    October  CO2 levels  PPM\n",
       "2049  10   November  CO2 levels  PPM\n",
       "2049  11   December  CO2 levels  PPM\n",
       "2050  12    January  CO2 levels  PPM\n",
       "2050  13   February  CO2 levels  PPM\n",
       "2050  14      March  CO2 levels  PPM\n",
       "2050  15      April  CO2 levels  PPM\n",
       "2050  16        May  CO2 levels  PPM\n",
       "2050  17       June  CO2 levels  PPM\n",
       "2050  18       July  CO2 levels  PPM\n",
       "2050  19     August  CO2 levels  PPM\n",
       "2050  20  September  CO2 levels  PPM\n",
       "2050  21    October  CO2 levels  PPM\n",
       "2050  22   November  CO2 levels  PPM\n",
       "2050  23   December  CO2 levels  PPM"
      ]
     },
     "execution_count": 5,
     "metadata": {},
     "output_type": "execute_result"
    }
   ],
   "source": [
    "df_test = pd.read_csv(\"test.csv\")\n",
    "df_test.index = df_test['Year']\n",
    "df_test.drop('Year',axis=1,inplace=True)\n",
    "df_test"
   ]
  },
  {
   "cell_type": "code",
   "execution_count": 6,
   "id": "2ecde08a",
   "metadata": {},
   "outputs": [
    {
     "data": {
      "text/plain": [
       "<matplotlib.collections.PathCollection at 0x20370f84160>"
      ]
     },
     "execution_count": 6,
     "metadata": {},
     "output_type": "execute_result"
    },
    {
     "data": {
      "image/png": "[encoded data removed]",
      "text/plain": [
       "<Figure size 640x480 with 1 Axes>"
      ]
     },
     "metadata": {},
     "output_type": "display_data"
    }
   ],
   "source": [
    "plt.scatter(df.index,df['Value'])"
   ]
  },
  {
   "cell_type": "code",
   "execution_count": 10,
   "id": "b100aa83",
   "metadata": {
    "scrolled": true
   },
   "outputs": [],
   "source": [
    "List = df[df['Value']<600][['Value','Month']]\n",
    "List = List.sort_values(by='Year')"
   ]
  },
  {
   "cell_type": "code",
   "execution_count": 11,
   "id": "4ccd387e",
   "metadata": {},
   "outputs": [
    {
     "data": {
      "text/html": [
       "<div>\n",
       "<style scoped>\n",
       "    .dataframe tbody tr th:only-of-type {\n",
       "        vertical-align: middle;\n",
       "    }\n",
       "\n",
       "    .dataframe tbody tr th {\n",
       "        vertical-align: top;\n",
       "    }\n",
       "\n",
       "    .dataframe thead th {\n",
       "        text-align: right;\n",
       "    }\n",
       "</style>\n",
       "<table border=\"1\" class=\"dataframe\">\n",
       "  <thead>\n",
       "    <tr style=\"text-align: right;\">\n",
       "      <th></th>\n",
       "      <th>Value</th>\n",
       "      <th>Month</th>\n",
       "    </tr>\n",
       "    <tr>\n",
       "      <th>Year</th>\n",
       "      <th></th>\n",
       "      <th></th>\n",
       "    </tr>\n",
       "  </thead>\n",
       "  <tbody>\n",
       "    <tr>\n",
       "      <th>1986</th>\n",
       "      <td>349.26</td>\n",
       "      <td>May</td>\n",
       "    </tr>\n",
       "    <tr>\n",
       "      <th>1986</th>\n",
       "      <td>346.14</td>\n",
       "      <td>December</td>\n",
       "    </tr>\n",
       "    <tr>\n",
       "      <th>1986</th>\n",
       "      <td>346.42</td>\n",
       "      <td>August</td>\n",
       "    </tr>\n",
       "    <tr>\n",
       "      <th>1986</th>\n",
       "      <td>348.96</td>\n",
       "      <td>June</td>\n",
       "    </tr>\n",
       "    <tr>\n",
       "      <th>1986</th>\n",
       "      <td>349.20</td>\n",
       "      <td>April</td>\n",
       "    </tr>\n",
       "    <tr>\n",
       "      <th>...</th>\n",
       "      <td>...</td>\n",
       "      <td>...</td>\n",
       "    </tr>\n",
       "    <tr>\n",
       "      <th>2048</th>\n",
       "      <td>454.06</td>\n",
       "      <td>August</td>\n",
       "    </tr>\n",
       "    <tr>\n",
       "      <th>2048</th>\n",
       "      <td>455.77</td>\n",
       "      <td>February</td>\n",
       "    </tr>\n",
       "    <tr>\n",
       "      <th>2048</th>\n",
       "      <td>458.10</td>\n",
       "      <td>April</td>\n",
       "    </tr>\n",
       "    <tr>\n",
       "      <th>2048</th>\n",
       "      <td>452.67</td>\n",
       "      <td>September</td>\n",
       "    </tr>\n",
       "    <tr>\n",
       "      <th>2048</th>\n",
       "      <td>454.43</td>\n",
       "      <td>November</td>\n",
       "    </tr>\n",
       "  </tbody>\n",
       "</table>\n",
       "<p>731 rows × 2 columns</p>\n",
       "</div>"
      ],
      "text/plain": [
       "       Value      Month\n",
       "Year                   \n",
       "1986  349.26        May\n",
       "1986  346.14   December\n",
       "1986  346.42     August\n",
       "1986  348.96       June\n",
       "1986  349.20      April\n",
       "...      ...        ...\n",
       "2048  454.06     August\n",
       "2048  455.77   February\n",
       "2048  458.10      April\n",
       "2048  452.67  September\n",
       "2048  454.43   November\n",
       "\n",
       "[731 rows x 2 columns]"
      ]
     },
     "execution_count": 11,
     "metadata": {},
     "output_type": "execute_result"
    }
   ],
   "source": [
    "List"
   ]
  },
  {
   "cell_type": "code",
   "execution_count": 13,
   "id": "218e6e09",
   "metadata": {},
   "outputs": [
    {
     "data": {
      "text/plain": [
       "<matplotlib.collections.PathCollection at 0x2037104e9b0>"
      ]
     },
     "execution_count": 13,
     "metadata": {},
     "output_type": "execute_result"
    },
    {
     "data": {
      "image/png": "[encoded data removed]",
      "text/plain": [
       "<Figure size 640x480 with 1 Axes>"
      ]
     },
     "metadata": {},
     "output_type": "display_data"
    }
   ],
   "source": [
    "plt.scatter(List.index[:50],List['Value'][:50])"
   ]
  },
  {
   "cell_type": "code",
   "execution_count": 14,
   "id": "9b87031c",
   "metadata": {},
   "outputs": [
    {
     "data": {
      "text/plain": [
       "Index(['Month', 'Indicator', 'Value', 'Unit'], dtype='object')"
      ]
     },
     "execution_count": 14,
     "metadata": {},
     "output_type": "execute_result"
    }
   ],
   "source": [
    "df.columns"
   ]
  },
  {
   "cell_type": "code",
   "execution_count": 15,
   "id": "bf0a942d",
   "metadata": {},
   "outputs": [
    {
     "data": {
      "text/plain": [
       "array(['April', 'August', 'December', 'February', 'January', 'July',\n",
       "       'June', 'March', 'May', 'November', 'October', 'September'],\n",
       "      dtype=object)"
      ]
     },
     "execution_count": 15,
     "metadata": {},
     "output_type": "execute_result"
    }
   ],
   "source": [
    "Months = np.sort(df['Month'].unique())\n",
    "Months"
   ]
  },
  {
   "cell_type": "code",
   "execution_count": 18,
   "id": "84b7a22f",
   "metadata": {
    "scrolled": false
   },
   "outputs": [
    {
     "data": {
      "image/png": "[encoded data removed]",
      "text/plain": [
       "<Figure size 640x480 with 1 Axes>"
      ]
     },
     "metadata": {},
     "output_type": "display_data"
    }
   ],
   "source": [
    "colors=['Red',\n",
    "'Blue',\n",
    "'Yellow',\n",
    "'Green',\n",
    "'Orange',\n",
    "'Purple',\n",
    "'Cyan',\n",
    "'Magenta',\n",
    "'Chartreuse',\n",
    "'Brown',\n",
    "'Beige',\n",
    "'Olive']\n",
    "for i,month in enumerate(Months):\n",
    "    plt.scatter(List[List['Month']==month].index,List[List['Month']==month].Value,color=colors[i],label=month)\n",
    "plt.legend()\n",
    "plt.show()"
   ]
  },
  {
   "cell_type": "code",
   "execution_count": 21,
   "id": "bdb02c42",
   "metadata": {},
   "outputs": [],
   "source": [
    "Month_wise_data=[]\n",
    "for month in Months:\n",
    "    Month_wise_data.append(List[List['Month']==month]['Value'])"
   ]
  },
  {
   "cell_type": "code",
   "execution_count": 23,
   "id": "57ac48dd",
   "metadata": {},
   "outputs": [
    {
     "name": "stdout",
     "output_type": "stream",
     "text": [
      "Index([1986, 1987, 1988, 1989, 1990, 1991, 1992, 1993, 1994, 1995, 1996, 1997,\n",
      "       1998, 1999, 2000, 2001, 2002, 2003, 2004, 2005, 2006, 2007, 2008, 2009,\n",
      "       2010, 2011, 2012, 2013, 2014, 2015, 2016, 2017, 2018, 2019, 2020, 2021,\n",
      "       2022, 2023, 2024, 2026, 2027, 2028, 2029, 2030, 2031, 2032, 2033, 2034,\n",
      "       2035, 2036, 2037, 2038, 2039, 2040, 2041, 2042, 2043, 2044, 2045, 2046,\n",
      "       2047, 2048],\n",
      "      dtype='int64', name='Year')\n",
      "Index([1986, 1988, 1989, 1990, 1991, 1992, 1993, 1994, 1995, 1996, 1997, 1998,\n",
      "       1999, 2000, 2001, 2002, 2003, 2004, 2005, 2006, 2007, 2008, 2009, 2010,\n",
      "       2011, 2012, 2013, 2015, 2016, 2017, 2018, 2019, 2020, 2021, 2022, 2023,\n",
      "       2024, 2025, 2026, 2027, 2028, 2029, 2030, 2031, 2032, 2033, 2034, 2035,\n",
      "       2036, 2037, 2038, 2039, 2040, 2041, 2042, 2043, 2044, 2045, 2046, 2047,\n",
      "       2048],\n",
      "      dtype='int64', name='Year')\n",
      "Index([1986, 1987, 1989, 1990, 1991, 1992, 1993, 1994, 1995, 1996, 1997, 1998,\n",
      "       1999, 2000, 2001, 2002, 2003, 2005, 2006, 2007, 2008, 2009, 2010, 2011,\n",
      "       2012, 2013, 2014, 2015, 2016, 2017, 2018, 2019, 2020, 2021, 2022, 2023,\n",
      "       2024, 2025, 2026, 2027, 2028, 2029, 2030, 2031, 2032, 2033, 2034, 2035,\n",
      "       2036, 2037, 2038, 2039, 2040, 2042, 2043, 2044, 2045, 2046, 2047, 2048],\n",
      "      dtype='int64', name='Year')\n",
      "Index([1987, 1988, 1989, 1990, 1991, 1992, 1993, 1994, 1995, 1996, 1997, 1998,\n",
      "       1999, 2000, 2001, 2002, 2003, 2004, 2005, 2006, 2007, 2008, 2009, 2010,\n",
      "       2011, 2012, 2014, 2015, 2016, 2017, 2018, 2019, 2020, 2022, 2023, 2024,\n",
      "       2025, 2026, 2027, 2028, 2029, 2030, 2031, 2032, 2033, 2034, 2035, 2036,\n",
      "       2037, 2038, 2039, 2040, 2041, 2042, 2044, 2045, 2046, 2047, 2048],\n",
      "      dtype='int64', name='Year')\n",
      "Index([1987, 1988, 1989, 1990, 1991, 1992, 1993, 1994, 1995, 1996, 1997, 1998,\n",
      "       1999, 2000, 2001, 2002, 2003, 2004, 2005, 2006, 2007, 2008, 2009, 2010,\n",
      "       2011, 2012, 2013, 2014, 2015, 2016, 2018, 2019, 2020, 2021, 2022, 2023,\n",
      "       2024, 2025, 2026, 2027, 2028, 2030, 2031, 2032, 2033, 2034, 2035, 2036,\n",
      "       2037, 2038, 2039, 2040, 2041, 2042, 2043, 2044, 2045, 2046, 2047],\n",
      "      dtype='int64', name='Year')\n",
      "Index([1986, 1987, 1988, 1989, 1990, 1991, 1992, 1993, 1994, 1996, 1997, 1998,\n",
      "       1999, 2000, 2001, 2002, 2003, 2004, 2005, 2006, 2007, 2008, 2009, 2010,\n",
      "       2011, 2012, 2013, 2014, 2015, 2016, 2017, 2018, 2019, 2020, 2021, 2022,\n",
      "       2023, 2024, 2025, 2026, 2027, 2028, 2029, 2030, 2031, 2032, 2033, 2034,\n",
      "       2035, 2036, 2037, 2038, 2039, 2040, 2041, 2042, 2043, 2044, 2045, 2046,\n",
      "       2047, 2048],\n",
      "      dtype='int64', name='Year')\n",
      "Index([1986, 1987, 1988, 1989, 1990, 1991, 1992, 1993, 1994, 1995, 1996, 1997,\n",
      "       1998, 1999, 2000, 2001, 2002, 2003, 2004, 2005, 2006, 2007, 2008, 2009,\n",
      "       2010, 2011, 2012, 2013, 2014, 2015, 2016, 2017, 2018, 2019, 2020, 2021,\n",
      "       2022, 2023, 2024, 2025, 2026, 2027, 2028, 2029, 2030, 2031, 2032, 2033,\n",
      "       2034, 2036, 2037, 2038, 2039, 2040, 2041, 2042, 2043, 2044, 2045, 2046,\n",
      "       2047, 2048],\n",
      "      dtype='int64', name='Year')\n",
      "Index([1986, 1987, 1988, 1989, 1990, 1991, 1992, 1993, 1994, 1995, 1996, 1997,\n",
      "       1998, 1999, 2000, 2001, 2002, 2003, 2004, 2005, 2006, 2007, 2008, 2009,\n",
      "       2010, 2011, 2012, 2013, 2014, 2015, 2016, 2017, 2018, 2019, 2020, 2021,\n",
      "       2022, 2023, 2024, 2025, 2026, 2027, 2028, 2029, 2030, 2031, 2032, 2033,\n",
      "       2034, 2035, 2036, 2037, 2038, 2039, 2040, 2041, 2042, 2043, 2044, 2045,\n",
      "       2046, 2047, 2048],\n",
      "      dtype='int64', name='Year')\n",
      "Index([1986, 1987, 1988, 1989, 1990, 1991, 1992, 1993, 1994, 1995, 1996, 1997,\n",
      "       1998, 1999, 2000, 2001, 2002, 2003, 2004, 2005, 2006, 2007, 2008, 2009,\n",
      "       2010, 2011, 2012, 2013, 2014, 2015, 2016, 2017, 2018, 2019, 2020, 2021,\n",
      "       2022, 2023, 2024, 2025, 2026, 2027, 2028, 2029, 2030, 2031, 2032, 2033,\n",
      "       2034, 2035, 2036, 2037, 2038, 2040, 2041, 2042, 2043, 2044, 2045, 2046,\n",
      "       2048],\n",
      "      dtype='int64', name='Year')\n",
      "Index([1986, 1987, 1988, 1989, 1990, 1991, 1992, 1994, 1995, 1996, 1997, 1998,\n",
      "       1999, 2000, 2001, 2002, 2003, 2004, 2005, 2006, 2007, 2008, 2009, 2011,\n",
      "       2012, 2013, 2014, 2015, 2016, 2017, 2018, 2019, 2020, 2021, 2022, 2024,\n",
      "       2025, 2026, 2027, 2028, 2029, 2030, 2031, 2033, 2034, 2035, 2036, 2037,\n",
      "       2038, 2039, 2040, 2041, 2042, 2043, 2044, 2045, 2046, 2047, 2048],\n",
      "      dtype='int64', name='Year')\n",
      "Index([1986, 1987, 1988, 1989, 1990, 1991, 1992, 1993, 1994, 1995, 1996, 1997,\n",
      "       1998, 1999, 2000, 2001, 2002, 2003, 2004, 2005, 2006, 2007, 2008, 2009,\n",
      "       2010, 2011, 2012, 2013, 2014, 2015, 2016, 2017, 2018, 2019, 2020, 2021,\n",
      "       2022, 2023, 2024, 2025, 2027, 2028, 2029, 2030, 2031, 2032, 2033, 2034,\n",
      "       2035, 2036, 2037, 2038, 2039, 2040, 2041, 2042, 2043, 2044, 2045, 2046,\n",
      "       2047, 2048],\n",
      "      dtype='int64', name='Year')\n",
      "Index([1986, 1987, 1988, 1989, 1990, 1991, 1992, 1993, 1994, 1995, 1996, 1997,\n",
      "       1999, 2000, 2001, 2002, 2003, 2004, 2005, 2006, 2007, 2008, 2010, 2011,\n",
      "       2012, 2013, 2014, 2015, 2016, 2017, 2018, 2019, 2020, 2021, 2022, 2023,\n",
      "       2024, 2025, 2026, 2027, 2028, 2029, 2030, 2031, 2032, 2033, 2034, 2035,\n",
      "       2036, 2037, 2038, 2039, 2040, 2041, 2042, 2043, 2044, 2045, 2046, 2047,\n",
      "       2048],\n",
      "      dtype='int64', name='Year')\n"
     ]
    }
   ],
   "source": [
    "for each in Month_wise_data:\n",
    "    print(each.index.unique())"
   ]
  },
  {
   "cell_type": "code",
   "execution_count": 24,
   "id": "5208eb8b",
   "metadata": {
    "scrolled": false
   },
   "outputs": [
    {
     "data": {
      "text/plain": [
       "{'April': 0,\n",
       " 'August': 1,\n",
       " 'December': 2,\n",
       " 'February': 3,\n",
       " 'January': 4,\n",
       " 'July': 5,\n",
       " 'June': 6,\n",
       " 'March': 7,\n",
       " 'May': 8,\n",
       " 'November': 9,\n",
       " 'October': 10,\n",
       " 'September': 11}"
      ]
     },
     "execution_count": 24,
     "metadata": {},
     "output_type": "execute_result"
    }
   ],
   "source": [
    "month_dic = dict([(month,i) for i,month in enumerate(Months)])\n",
    "month_dic"
   ]
  },
  {
   "cell_type": "code",
   "execution_count": 25,
   "id": "394e895a",
   "metadata": {},
   "outputs": [],
   "source": [
    "test=Month_wise_data[5].copy()\n",
    "month = Months[5]"
   ]
  },
  {
   "cell_type": "code",
   "execution_count": 26,
   "id": "2c226510",
   "metadata": {},
   "outputs": [
    {
     "data": {
      "text/plain": [
       "'July'"
      ]
     },
     "execution_count": 26,
     "metadata": {},
     "output_type": "execute_result"
    }
   ],
   "source": [
    "month"
   ]
  },
  {
   "cell_type": "code",
   "execution_count": 27,
   "id": "d85a0350",
   "metadata": {},
   "outputs": [
    {
     "data": {
      "text/plain": [
       "Year\n",
       "1986    347.45\n",
       "1987    348.19\n",
       "1988    350.00\n",
       "1989    350.43\n",
       "1990    351.57\n",
       "         ...  \n",
       "2044    445.05\n",
       "2045    448.06\n",
       "2046    449.79\n",
       "2047    453.17\n",
       "2048    456.08\n",
       "Name: Value, Length: 62, dtype: float64"
      ]
     },
     "execution_count": 27,
     "metadata": {},
     "output_type": "execute_result"
    }
   ],
   "source": [
    "test"
   ]
  },
  {
   "cell_type": "markdown",
   "id": "975837c6",
   "metadata": {},
   "source": [
    "# Preprocessing"
   ]
  },
  {
   "cell_type": "code",
   "execution_count": 30,
   "id": "4344fb89",
   "metadata": {},
   "outputs": [
    {
     "data": {
      "text/plain": [
       "456.08"
      ]
     },
     "execution_count": 30,
     "metadata": {},
     "output_type": "execute_result"
    }
   ],
   "source": [
    "MAX = test.max()\n",
    "MAX"
   ]
  },
  {
   "cell_type": "code",
   "execution_count": 32,
   "id": "ca4b36cf",
   "metadata": {},
   "outputs": [
    {
     "data": {
      "text/plain": [
       "Year\n",
       "1986    0.761818\n",
       "1987    0.763441\n",
       "1988    0.767409\n",
       "1989    0.768352\n",
       "1990    0.770852\n",
       "          ...   \n",
       "2044    0.975816\n",
       "2045    0.982415\n",
       "2046    0.986209\n",
       "2047    0.993620\n",
       "2048    1.000000\n",
       "Name: Value, Length: 62, dtype: float64"
      ]
     },
     "execution_count": 32,
     "metadata": {},
     "output_type": "execute_result"
    }
   ],
   "source": [
    "test = test/MAX\n",
    "test"
   ]
  },
  {
   "cell_type": "code",
   "execution_count": 34,
   "id": "b0e83f59",
   "metadata": {},
   "outputs": [],
   "source": [
    "X_train = test.iloc[:50]\n",
    "X_test = test.iloc[50:]"
   ]
  },
  {
   "cell_type": "code",
   "execution_count": 35,
   "id": "5d705a42",
   "metadata": {},
   "outputs": [
    {
     "data": {
      "text/plain": [
       "0.7618181020873531"
      ]
     },
     "execution_count": 35,
     "metadata": {},
     "output_type": "execute_result"
    }
   ],
   "source": [
    "X_train.values[0]"
   ]
  },
  {
   "cell_type": "code",
   "execution_count": 38,
   "id": "6cc79600",
   "metadata": {},
   "outputs": [],
   "source": [
    "def Create_data(series,lag):\n",
    "    start = 0\n",
    "    end = lag\n",
    "    X = []\n",
    "    Y = []\n",
    "    while(end<len(series)):\n",
    "        X.append(series[start:end])\n",
    "        Y.append(series[end])\n",
    "        start += 1\n",
    "        end +=1\n",
    "    X = np.array(X)\n",
    "    Y = np.array(Y)\n",
    "    X = X.reshape(len(X),lag,1)\n",
    "    return X,Y"
   ]
  },
  {
   "cell_type": "code",
   "execution_count": 217,
   "id": "761e7886",
   "metadata": {},
   "outputs": [],
   "source": [
    "window=4"
   ]
  },
  {
   "cell_type": "code",
   "execution_count": 218,
   "id": "a6d6ffe0",
   "metadata": {},
   "outputs": [],
   "source": [
    "x_train,y_train = Create_data(X_train.values,window)\n",
    "x_test,y_test = Create_data(X_test.values,window)"
   ]
  },
  {
   "cell_type": "code",
   "execution_count": 219,
   "id": "3a997594",
   "metadata": {},
   "outputs": [
    {
     "data": {
      "text/plain": [
       "((46, 4, 1), (46,))"
      ]
     },
     "execution_count": 219,
     "metadata": {},
     "output_type": "execute_result"
    }
   ],
   "source": [
    "x_train.shape,y_train.shape"
   ]
  },
  {
   "cell_type": "code",
   "execution_count": 220,
   "id": "bf14a05e",
   "metadata": {},
   "outputs": [
    {
     "data": {
      "text/plain": [
       "((8, 4, 1), (8,))"
      ]
     },
     "execution_count": 220,
     "metadata": {},
     "output_type": "execute_result"
    }
   ],
   "source": [
    "x_test.shape,y_test.shape"
   ]
  },
  {
   "cell_type": "markdown",
   "id": "6af428ab",
   "metadata": {},
   "source": [
    "# model building"
   ]
  },
  {
   "cell_type": "code",
   "execution_count": 43,
   "id": "622828c4",
   "metadata": {},
   "outputs": [],
   "source": [
    "from tensorflow.keras.layers import LSTM,Dense\n",
    "from tensorflow.keras.models import Sequential\n",
    "from tensorflow.keras.optimizers import Adam"
   ]
  },
  {
   "cell_type": "code",
   "execution_count": 256,
   "id": "6eaa9724",
   "metadata": {},
   "outputs": [
    {
     "name": "stdout",
     "output_type": "stream",
     "text": [
      "Model: \"sequential_9\"\n",
      "_________________________________________________________________\n",
      " Layer (type)                Output Shape              Param #   \n",
      "=================================================================\n",
      " lstm_12 (LSTM)              (None, 256)               264192    \n",
      "                                                                 \n",
      " dense_9 (Dense)             (None, 1)                 257       \n",
      "                                                                 \n",
      "=================================================================\n",
      "Total params: 264449 (1.01 MB)\n",
      "Trainable params: 264449 (1.01 MB)\n",
      "Non-trainable params: 0 (0.00 Byte)\n",
      "_________________________________________________________________\n"
     ]
    }
   ],
   "source": [
    "july_model = Sequential()\n",
    "july_model.add(LSTM(256,input_shape=(window,1),activation='relu'))\n",
    "july_model.add(Dense(1,activation='linear'))\n",
    "\n",
    "july_model.compile(optimizer=Adam(),loss='mean_squared_error')\n",
    "july_model.summary()"
   ]
  },
  {
   "cell_type": "code",
   "execution_count": 272,
   "id": "162dfdb5",
   "metadata": {
    "scrolled": false
   },
   "outputs": [
    {
     "name": "stdout",
     "output_type": "stream",
     "text": [
      "Epoch 1/10\n",
      "46/46 - 0s - loss: 4.0167e-05 - val_loss: 7.2497e-05 - 367ms/epoch - 8ms/step\n",
      "Epoch 2/10\n",
      "46/46 - 0s - loss: 2.7657e-05 - val_loss: 1.5688e-04 - 368ms/epoch - 8ms/step\n",
      "Epoch 3/10\n",
      "46/46 - 0s - loss: 3.1137e-05 - val_loss: 8.0025e-05 - 426ms/epoch - 9ms/step\n",
      "Epoch 4/10\n",
      "46/46 - 0s - loss: 5.5937e-05 - val_loss: 7.6315e-07 - 333ms/epoch - 7ms/step\n",
      "Epoch 5/10\n",
      "46/46 - 0s - loss: 1.9160e-05 - val_loss: 5.8163e-06 - 320ms/epoch - 7ms/step\n",
      "Epoch 6/10\n",
      "46/46 - 0s - loss: 1.4306e-05 - val_loss: 1.3642e-05 - 340ms/epoch - 7ms/step\n",
      "Epoch 7/10\n",
      "46/46 - 0s - loss: 1.5496e-05 - val_loss: 1.5692e-05 - 340ms/epoch - 7ms/step\n",
      "Epoch 8/10\n",
      "46/46 - 0s - loss: 2.1742e-05 - val_loss: 1.6584e-05 - 319ms/epoch - 7ms/step\n",
      "Epoch 9/10\n",
      "46/46 - 0s - loss: 1.6325e-05 - val_loss: 9.3335e-07 - 349ms/epoch - 8ms/step\n",
      "Epoch 10/10\n",
      "46/46 - 0s - loss: 1.3755e-05 - val_loss: 1.2987e-06 - 368ms/epoch - 8ms/step\n"
     ]
    },
    {
     "data": {
      "text/plain": [
       "<keras.src.callbacks.History at 0x2032e49a0b0>"
      ]
     },
     "execution_count": 272,
     "metadata": {},
     "output_type": "execute_result"
    }
   ],
   "source": [
    "july_model.fit(x_train,y_train,epochs=10,batch_size=1,verbose=2,validation_data=(x_test,y_test))"
   ]
  },
  {
   "cell_type": "code",
   "execution_count": 273,
   "id": "5794366c",
   "metadata": {},
   "outputs": [
    {
     "name": "stdout",
     "output_type": "stream",
     "text": [
      "1/1 [==============================] - 0s 36ms/step\n"
     ]
    },
    {
     "data": {
      "text/plain": [
       "array([0.9579991 , 0.96387416, 0.96968794, 0.97538704, 0.9819267 ,\n",
       "       0.98800796, 0.9945056 , 1.0016177 ], dtype=float32)"
      ]
     },
     "execution_count": 273,
     "metadata": {},
     "output_type": "execute_result"
    }
   ],
   "source": [
    "y_pred=july_model.predict(x_test)\n",
    "y_pred = y_pred.reshape(-1,)\n",
    "y_pred"
   ]
  },
  {
   "cell_type": "code",
   "execution_count": 274,
   "id": "02ee1bbb",
   "metadata": {},
   "outputs": [
    {
     "data": {
      "text/plain": [
       "array([0.95873531, 0.96298895, 0.96827311, 0.97581565, 0.98241537,\n",
       "       0.98620856, 0.99361954, 1.        ])"
      ]
     },
     "execution_count": 274,
     "metadata": {},
     "output_type": "execute_result"
    }
   ],
   "source": [
    "y_test"
   ]
  },
  {
   "cell_type": "code",
   "execution_count": 275,
   "id": "b1ceeaf3",
   "metadata": {},
   "outputs": [
    {
     "data": {
      "image/png": "[encoded data removed]",
      "text/plain": [
       "<Figure size 640x480 with 1 Axes>"
      ]
     },
     "metadata": {},
     "output_type": "display_data"
    }
   ],
   "source": [
    "plt.plot(range(len(y_test)),y_test*MAX,color='green',label='Original')\n",
    "plt.plot(range(len(y_pred)),y_pred*MAX,MAX,color='yellow',label='Predicted')\n",
    "plt.legend()\n",
    "plt.show()"
   ]
  },
  {
   "cell_type": "code",
   "execution_count": 276,
   "id": "d8e198d2",
   "metadata": {},
   "outputs": [
    {
     "data": {
      "text/plain": [
       "0.5197519063573137"
      ]
     },
     "execution_count": 276,
     "metadata": {},
     "output_type": "execute_result"
    }
   ],
   "source": [
    "np.sqrt(MSE(y_test,y_pred))*MAX"
   ]
  },
  {
   "cell_type": "code",
   "execution_count": 277,
   "id": "53106cf3",
   "metadata": {},
   "outputs": [
    {
     "name": "stdout",
     "output_type": "stream",
     "text": [
      "2/2 [==============================] - 0s 6ms/step\n"
     ]
    }
   ],
   "source": [
    "Y_pred = july_model.predict(x_train)"
   ]
  },
  {
   "cell_type": "code",
   "execution_count": 278,
   "id": "bd26ee25",
   "metadata": {},
   "outputs": [
    {
     "data": {
      "image/png": "[encoded data removed]",
      "text/plain": [
       "<Figure size 640x480 with 1 Axes>"
      ]
     },
     "metadata": {},
     "output_type": "display_data"
    }
   ],
   "source": [
    "plt.plot(range(len(y_train)),y_train*MAX,color='green',label='Original')\n",
    "plt.plot(range(len(Y_pred)),Y_pred*MAX,MAX,color='yellow',label='Predicted')\n",
    "plt.legend()\n",
    "plt.show()"
   ]
  },
  {
   "cell_type": "code",
   "execution_count": 167,
   "id": "fd2c3319",
   "metadata": {},
   "outputs": [
    {
     "data": {
      "text/plain": [
       "0.8448943386140138"
      ]
     },
     "execution_count": 167,
     "metadata": {},
     "output_type": "execute_result"
    }
   ],
   "source": [
    "np.sqrt(MSE(y_train,Y_pred))*MAX"
   ]
  },
  {
   "cell_type": "code",
   "execution_count": 174,
   "id": "d9270404",
   "metadata": {},
   "outputs": [
    {
     "name": "stderr",
     "output_type": "stream",
     "text": [
      "C:\\Python310\\lib\\site-packages\\keras\\src\\engine\\training.py:3000: UserWarning: You are saving your model as an HDF5 file via `model.save()`. This file format is considered legacy. We recommend using instead the native Keras format, e.g. `model.save('my_model.keras')`.\n",
      "  saving_api.save_model(\n"
     ]
    }
   ],
   "source": [
    "july_model.save(r'C:\\Users\\idipa\\PycharmProject\\Machine_learning\\unstop_time_series\\July_model\\julyModel.h5')"
   ]
  },
  {
   "cell_type": "code",
   "execution_count": 173,
   "id": "7101d6e7",
   "metadata": {},
   "outputs": [],
   "source": [
    "from tensorflow.keras.models import load_model"
   ]
  },
  {
   "cell_type": "code",
   "execution_count": 175,
   "id": "9ffc63da",
   "metadata": {},
   "outputs": [],
   "source": [
    "model = load_model(r'C:\\Users\\idipa\\PycharmProject\\Machine_learning\\unstop_time_series\\July_model\\julyModel.h5')"
   ]
  },
  {
   "cell_type": "code",
   "execution_count": 176,
   "id": "26602e1c",
   "metadata": {},
   "outputs": [
    {
     "name": "stdout",
     "output_type": "stream",
     "text": [
      "1/1 [==============================] - 1s 584ms/step\n"
     ]
    }
   ],
   "source": [
    "pred=model.predict(x_test)"
   ]
  },
  {
   "cell_type": "code",
   "execution_count": 178,
   "id": "f9786180",
   "metadata": {},
   "outputs": [
    {
     "data": {
      "image/png": "[encoded data removed]",
      "text/plain": [
       "<Figure size 640x480 with 1 Axes>"
      ]
     },
     "metadata": {},
     "output_type": "display_data"
    }
   ],
   "source": [
    "plt.plot(range(len(y_test)),y_test*MAX,color='green',label='Original')\n",
    "plt.plot(range(len(pred)),pred*MAX,MAX,color='yellow',label='Predicted')\n",
    "plt.legend()\n",
    "plt.show()"
   ]
  },
  {
   "cell_type": "markdown",
   "id": "090e4172",
   "metadata": {},
   "source": [
    "# model 2"
   ]
  },
  {
   "cell_type": "code",
   "execution_count": 180,
   "id": "c358882e",
   "metadata": {},
   "outputs": [],
   "source": [
    "window=3\n",
    "x_train,y_train = Create_data(X_train.values,window)\n",
    "x_test,y_test = Create_data(X_test.values,window)"
   ]
  },
  {
   "cell_type": "code",
   "execution_count": 197,
   "id": "61ef1568",
   "metadata": {},
   "outputs": [],
   "source": [
    "j_model2 = Sequential()\n",
    "j_model2.add(LSTM(128,input_shape=(window,1),return_sequences=True,activation='relu'))\n",
    "j_model2.add(LSTM(64,activation='relu'))\n",
    "j_model2.add(Dense(1))\n",
    "\n",
    "j_model2.compile(optimizer=Adam(),loss='mean_squared_error')"
   ]
  },
  {
   "cell_type": "code",
   "execution_count": 198,
   "id": "11f26427",
   "metadata": {},
   "outputs": [
    {
     "name": "stdout",
     "output_type": "stream",
     "text": [
      "Model: \"sequential_6\"\n",
      "_________________________________________________________________\n",
      " Layer (type)                Output Shape              Param #   \n",
      "=================================================================\n",
      " lstm_8 (LSTM)               (None, 3, 128)            66560     \n",
      "                                                                 \n",
      " lstm_9 (LSTM)               (None, 64)                49408     \n",
      "                                                                 \n",
      " dense_6 (Dense)             (None, 1)                 65        \n",
      "                                                                 \n",
      "=================================================================\n",
      "Total params: 116033 (453.25 KB)\n",
      "Trainable params: 116033 (453.25 KB)\n",
      "Non-trainable params: 0 (0.00 Byte)\n",
      "_________________________________________________________________\n"
     ]
    }
   ],
   "source": [
    "j_model2.summary()"
   ]
  },
  {
   "cell_type": "code",
   "execution_count": 212,
   "id": "dfc74efa",
   "metadata": {
    "scrolled": false
   },
   "outputs": [
    {
     "name": "stdout",
     "output_type": "stream",
     "text": [
      "Epoch 1/5\n",
      "47/47 [==============================] - 0s 5ms/step - loss: 3.8482e-05 - val_loss: 1.3092e-04\n",
      "Epoch 2/5\n",
      "47/47 [==============================] - 0s 4ms/step - loss: 4.8431e-05 - val_loss: 6.4282e-05\n",
      "Epoch 3/5\n",
      "47/47 [==============================] - 0s 4ms/step - loss: 1.6354e-05 - val_loss: 1.1754e-05\n",
      "Epoch 4/5\n",
      "47/47 [==============================] - 0s 5ms/step - loss: 5.1112e-05 - val_loss: 9.7468e-05\n",
      "Epoch 5/5\n",
      "47/47 [==============================] - 0s 5ms/step - loss: 9.5348e-05 - val_loss: 1.9523e-05\n"
     ]
    },
    {
     "data": {
      "text/plain": [
       "<keras.src.callbacks.History at 0x2031d361060>"
      ]
     },
     "execution_count": 212,
     "metadata": {},
     "output_type": "execute_result"
    }
   ],
   "source": [
    "j_model2.fit(x_train,y_train,epochs=5,batch_size=1,validation_data=(x_test,y_test))"
   ]
  },
  {
   "cell_type": "code",
   "execution_count": 214,
   "id": "4c272b41",
   "metadata": {},
   "outputs": [
    {
     "name": "stdout",
     "output_type": "stream",
     "text": [
      "1/1 [==============================] - 0s 23ms/step\n"
     ]
    },
    {
     "data": {
      "text/plain": [
       "array([0.9545636 , 0.9604101 , 0.96653986, 0.97253156, 0.97916627,\n",
       "       0.9850247 , 0.99218345, 0.9997783 , 1.006473  ], dtype=float32)"
      ]
     },
     "execution_count": 214,
     "metadata": {},
     "output_type": "execute_result"
    }
   ],
   "source": [
    "y_pred = j_model2.predict(x_test).reshape(-1,)\n",
    "y_pred"
   ]
  },
  {
   "cell_type": "code",
   "execution_count": 215,
   "id": "4c41c7c8",
   "metadata": {},
   "outputs": [
    {
     "data": {
      "text/plain": [
       "array([0.95163129, 0.95873531, 0.96298895, 0.96827311, 0.97581565,\n",
       "       0.98241537, 0.98620856, 0.99361954, 1.        ])"
      ]
     },
     "execution_count": 215,
     "metadata": {},
     "output_type": "execute_result"
    }
   ],
   "source": [
    "y_test"
   ]
  },
  {
   "cell_type": "code",
   "execution_count": 216,
   "id": "2d4ee26e",
   "metadata": {},
   "outputs": [
    {
     "data": {
      "image/png": "[encoded data removed]",
      "text/plain": [
       "<Figure size 640x480 with 1 Axes>"
      ]
     },
     "metadata": {},
     "output_type": "display_data"
    },
    {
     "data": {
      "text/plain": [
       "2.015201368440822"
      ]
     },
     "execution_count": 216,
     "metadata": {},
     "output_type": "execute_result"
    }
   ],
   "source": [
    "plt.plot(range(len(y_test)),y_test*MAX,color='green',label='Original')\n",
    "plt.plot(range(len(y_pred)),y_pred*MAX,MAX,color='yellow',label='Predicted')\n",
    "plt.legend()\n",
    "plt.show()\n",
    "np.sqrt(MSE(y_test,y_pred))*MAX"
   ]
  },
  {
   "cell_type": "markdown",
   "id": "26bad176",
   "metadata": {},
   "source": [
    "# Try :"
   ]
  },
  {
   "cell_type": "code",
   "execution_count": null,
   "id": "83b053dd",
   "metadata": {},
   "outputs": [],
   "source": [
    "test = "
   ]
  },
  {
   "cell_type": "code",
   "execution_count": 280,
   "id": "eeb6a78d",
   "metadata": {
    "scrolled": true
   },
   "outputs": [
    {
     "data": {
      "text/plain": [
       "[<matplotlib.lines.Line2D at 0x2032e5feb60>]"
      ]
     },
     "execution_count": 280,
     "metadata": {},
     "output_type": "execute_result"
    },
    {
     "data": {
      "image/png": "[encoded data removed]",
      "text/plain": [
       "<Figure size 640x480 with 1 Axes>"
      ]
     },
     "metadata": {},
     "output_type": "display_data"
    }
   ],
   "source": [
    "plt.plot(test.index,test)"
   ]
  },
  {
   "cell_type": "code",
   "execution_count": 284,
   "id": "892fa723",
   "metadata": {},
   "outputs": [
    {
     "data": {
      "text/plain": [
       "Year\n",
       "1986    347.45\n",
       "1987    348.19\n",
       "1988    350.00\n",
       "1989    350.43\n",
       "1990    351.57\n",
       "         ...  \n",
       "2044    445.05\n",
       "2045    448.06\n",
       "2046    449.79\n",
       "2047    453.17\n",
       "2048    456.08\n",
       "Name: Value, Length: 62, dtype: float64"
      ]
     },
     "execution_count": 284,
     "metadata": {},
     "output_type": "execute_result"
    }
   ],
   "source": [
    "test=Month_wise_data[5].copy()\n",
    "test"
   ]
  },
  {
   "cell_type": "code",
   "execution_count": 287,
   "id": "e44ddadf",
   "metadata": {},
   "outputs": [
    {
     "data": {
      "text/plain": [
       "Year\n",
       "1986       NaN\n",
       "1987    347.45\n",
       "1988    348.19\n",
       "1989    350.00\n",
       "1990    350.43\n",
       "         ...  \n",
       "2044    441.61\n",
       "2045    445.05\n",
       "2046    448.06\n",
       "2047    449.79\n",
       "2048    453.17\n",
       "Name: Value, Length: 62, dtype: float64"
      ]
     },
     "execution_count": 287,
     "metadata": {},
     "output_type": "execute_result"
    }
   ],
   "source": [
    "test.shift(1)"
   ]
  },
  {
   "cell_type": "code",
   "execution_count": 298,
   "id": "d043ce5b",
   "metadata": {},
   "outputs": [
    {
     "name": "stdout",
     "output_type": "stream",
     "text": [
      "Year\n",
      "1987    0.74\n",
      "1988    1.81\n",
      "1989    0.43\n",
      "1990    1.14\n",
      "1991    0.14\n",
      "        ... \n",
      "2044    3.44\n",
      "2045    3.01\n",
      "2046    1.73\n",
      "2047    3.38\n",
      "2048    2.91\n",
      "Name: Value, Length: 61, dtype: float64\n"
     ]
    },
    {
     "data": {
      "text/plain": [
       "[<matplotlib.lines.Line2D at 0x20319813400>]"
      ]
     },
     "execution_count": 298,
     "metadata": {},
     "output_type": "execute_result"
    },
    {
     "data": {
      "image/png": "[encoded data removed]",
      "text/plain": [
       "<Figure size 640x480 with 1 Axes>"
      ]
     },
     "metadata": {},
     "output_type": "display_data"
    }
   ],
   "source": [
    "List = test - test.shift(1)\n",
    "List.dropna(inplace=True)\n",
    "plt.grid()\n",
    "print(List)\n",
    "plt.plot(List.index,List)"
   ]
  },
  {
   "cell_type": "code",
   "execution_count": 289,
   "id": "55a28f24",
   "metadata": {},
   "outputs": [
    {
     "data": {
      "text/plain": [
       "3.8699999999999477"
      ]
     },
     "execution_count": 289,
     "metadata": {},
     "output_type": "execute_result"
    }
   ],
   "source": [
    "List.max()"
   ]
  },
  {
   "cell_type": "code",
   "execution_count": 294,
   "id": "10a518ad",
   "metadata": {},
   "outputs": [],
   "source": [
    "from tensorflow.keras.layers import Attention, Concatenate, Input, Bidirectional"
   ]
  },
  {
   "cell_type": "code",
   "execution_count": 297,
   "id": "17766339",
   "metadata": {},
   "outputs": [
    {
     "ename": "ValueError",
     "evalue": "An `initial_state` was passed that is not compatible with `cell.state_size`. Received `state_spec`=ListWrapper([InputSpec(shape=(None, 4, 64), ndim=3)]); however `cell.state_size` is [64, 64]",
     "output_type": "error",
     "traceback": [
      "\u001b[1;31m---------------------------------------------------------------------------\u001b[0m",
      "\u001b[1;31mValueError\u001b[0m                                Traceback (most recent call last)",
      "Cell \u001b[1;32mIn[297], line 8\u001b[0m\n\u001b[0;32m      5\u001b[0m encoder \u001b[38;5;241m=\u001b[39m LSTM(\u001b[38;5;241m64\u001b[39m, activation\u001b[38;5;241m=\u001b[39m\u001b[38;5;124m'\u001b[39m\u001b[38;5;124mrelu\u001b[39m\u001b[38;5;124m'\u001b[39m, return_sequences\u001b[38;5;241m=\u001b[39m\u001b[38;5;28;01mTrue\u001b[39;00m)(encoder_input)\n\u001b[0;32m      7\u001b[0m \u001b[38;5;66;03m# Decoder\u001b[39;00m\n\u001b[1;32m----> 8\u001b[0m decoder \u001b[38;5;241m=\u001b[39m \u001b[43mLSTM\u001b[49m\u001b[43m(\u001b[49m\u001b[38;5;241;43m64\u001b[39;49m\u001b[43m,\u001b[49m\u001b[43m \u001b[49m\u001b[43mactivation\u001b[49m\u001b[38;5;241;43m=\u001b[39;49m\u001b[38;5;124;43m'\u001b[39;49m\u001b[38;5;124;43mrelu\u001b[39;49m\u001b[38;5;124;43m'\u001b[39;49m\u001b[43m,\u001b[49m\u001b[43m \u001b[49m\u001b[43mreturn_sequences\u001b[49m\u001b[38;5;241;43m=\u001b[39;49m\u001b[38;5;28;43;01mTrue\u001b[39;49;00m\u001b[43m)\u001b[49m\u001b[43m(\u001b[49m\u001b[43mdecoder_input\u001b[49m\u001b[43m,\u001b[49m\u001b[43m \u001b[49m\u001b[43minitial_state\u001b[49m\u001b[38;5;241;43m=\u001b[39;49m\u001b[43mencoder_states\u001b[49m\u001b[43m)\u001b[49m\n\u001b[0;32m      9\u001b[0m attention \u001b[38;5;241m=\u001b[39m Attention()([decoder, encoder_states])\n\u001b[0;32m     10\u001b[0m concatenated \u001b[38;5;241m=\u001b[39m Concatenate(axis\u001b[38;5;241m=\u001b[39m\u001b[38;5;241m-\u001b[39m\u001b[38;5;241m1\u001b[39m)([decoder, attention])\n",
      "File \u001b[1;32mC:\\Python310\\lib\\site-packages\\keras\\src\\layers\\rnn\\base_rnn.py:615\u001b[0m, in \u001b[0;36mRNN.__call__\u001b[1;34m(self, inputs, initial_state, constants, **kwargs)\u001b[0m\n\u001b[0;32m    613\u001b[0m \u001b[38;5;66;03m# Perform the call with temporarily replaced input_spec\u001b[39;00m\n\u001b[0;32m    614\u001b[0m \u001b[38;5;28mself\u001b[39m\u001b[38;5;241m.\u001b[39minput_spec \u001b[38;5;241m=\u001b[39m full_input_spec\n\u001b[1;32m--> 615\u001b[0m output \u001b[38;5;241m=\u001b[39m \u001b[38;5;28msuper\u001b[39m()\u001b[38;5;241m.\u001b[39m\u001b[38;5;21m__call__\u001b[39m(full_input, \u001b[38;5;241m*\u001b[39m\u001b[38;5;241m*\u001b[39mkwargs)\n\u001b[0;32m    616\u001b[0m \u001b[38;5;66;03m# Remove the additional_specs from input spec and keep the rest. It\u001b[39;00m\n\u001b[0;32m    617\u001b[0m \u001b[38;5;66;03m# is important to keep since the input spec was populated by\u001b[39;00m\n\u001b[0;32m    618\u001b[0m \u001b[38;5;66;03m# build(), and will be reused in the stateful=True.\u001b[39;00m\n\u001b[0;32m    619\u001b[0m \u001b[38;5;28mself\u001b[39m\u001b[38;5;241m.\u001b[39minput_spec \u001b[38;5;241m=\u001b[39m \u001b[38;5;28mself\u001b[39m\u001b[38;5;241m.\u001b[39minput_spec[: \u001b[38;5;241m-\u001b[39m\u001b[38;5;28mlen\u001b[39m(additional_specs)]\n",
      "File \u001b[1;32mC:\\Python310\\lib\\site-packages\\keras\\src\\utils\\traceback_utils.py:70\u001b[0m, in \u001b[0;36mfilter_traceback.<locals>.error_handler\u001b[1;34m(*args, **kwargs)\u001b[0m\n\u001b[0;32m     67\u001b[0m     filtered_tb \u001b[38;5;241m=\u001b[39m _process_traceback_frames(e\u001b[38;5;241m.\u001b[39m__traceback__)\n\u001b[0;32m     68\u001b[0m     \u001b[38;5;66;03m# To get the full stack trace, call:\u001b[39;00m\n\u001b[0;32m     69\u001b[0m     \u001b[38;5;66;03m# `tf.debugging.disable_traceback_filtering()`\u001b[39;00m\n\u001b[1;32m---> 70\u001b[0m     \u001b[38;5;28;01mraise\u001b[39;00m e\u001b[38;5;241m.\u001b[39mwith_traceback(filtered_tb) \u001b[38;5;28;01mfrom\u001b[39;00m \u001b[38;5;28mNone\u001b[39m\n\u001b[0;32m     71\u001b[0m \u001b[38;5;28;01mfinally\u001b[39;00m:\n\u001b[0;32m     72\u001b[0m     \u001b[38;5;28;01mdel\u001b[39;00m filtered_tb\n",
      "File \u001b[1;32mC:\\Python310\\lib\\site-packages\\keras\\src\\layers\\rnn\\base_rnn.py:512\u001b[0m, in \u001b[0;36mRNN._validate_state_spec\u001b[1;34m(cell_state_sizes, init_state_specs)\u001b[0m\n\u001b[0;32m    509\u001b[0m flat_state_specs \u001b[38;5;241m=\u001b[39m tf\u001b[38;5;241m.\u001b[39mnest\u001b[38;5;241m.\u001b[39mflatten(init_state_specs)\n\u001b[0;32m    511\u001b[0m \u001b[38;5;28;01mif\u001b[39;00m \u001b[38;5;28mlen\u001b[39m(flat_cell_state_sizes) \u001b[38;5;241m!=\u001b[39m \u001b[38;5;28mlen\u001b[39m(flat_state_specs):\n\u001b[1;32m--> 512\u001b[0m     \u001b[38;5;28;01mraise\u001b[39;00m validation_error\n\u001b[0;32m    513\u001b[0m \u001b[38;5;28;01mfor\u001b[39;00m cell_state_spec, cell_state_size \u001b[38;5;129;01min\u001b[39;00m \u001b[38;5;28mzip\u001b[39m(\n\u001b[0;32m    514\u001b[0m     flat_state_specs, flat_cell_state_sizes\n\u001b[0;32m    515\u001b[0m ):\n\u001b[0;32m    516\u001b[0m     \u001b[38;5;28;01mif\u001b[39;00m \u001b[38;5;129;01mnot\u001b[39;00m tf\u001b[38;5;241m.\u001b[39mTensorShape(\n\u001b[0;32m    517\u001b[0m         \u001b[38;5;66;03m# Ignore the first axis for init_state which is for batch\u001b[39;00m\n\u001b[0;32m    518\u001b[0m         cell_state_spec\u001b[38;5;241m.\u001b[39mshape[\u001b[38;5;241m1\u001b[39m:]\n\u001b[0;32m    519\u001b[0m     )\u001b[38;5;241m.\u001b[39mis_compatible_with(tf\u001b[38;5;241m.\u001b[39mTensorShape(cell_state_size)):\n",
      "\u001b[1;31mValueError\u001b[0m: An `initial_state` was passed that is not compatible with `cell.state_size`. Received `state_spec`=ListWrapper([InputSpec(shape=(None, 4, 64), ndim=3)]); however `cell.state_size` is [64, 64]"
     ]
    }
   ],
   "source": [
    "encoder_input = Input(shape=(window, 1))\n",
    "decoder_input = Input(shape=(window, 1))\n",
    "\n",
    "# Encoder\n",
    "encoder = LSTM(64, activation='relu', return_sequences=True)(encoder_input)\n",
    "\n",
    "# Decoder\n",
    "decoder = LSTM(64, activation='relu', return_sequences=True)(decoder_input, initial_state=encoder_states)\n",
    "attention = Attention()([decoder, encoder_states])\n",
    "concatenated = Concatenate(axis=-1)([decoder, attention])\n",
    "output = Dense(1)(concatenated)\n",
    "\n",
    "model = Model([encoder_input, decoder_input], output)\n",
    "model.compile(optimizer='adam', loss='mean_squared_error')"
   ]
  },
  {
   "cell_type": "code",
   "execution_count": null,
   "id": "8a52bdcf",
   "metadata": {},
   "outputs": [],
   "source": []
  }
 ],
 "metadata": {
  "kernelspec": {
   "display_name": "Python 3 (ipykernel)",
   "language": "python",
   "name": "python3"
  },
  "language_info": {
   "codemirror_mode": {
    "name": "ipython",
    "version": 3
   },
   "file_extension": ".py",
   "mimetype": "text/x-python",
   "name": "python",
   "nbconvert_exporter": "python",
   "pygments_lexer": "ipython3",
   "version": "3.10.7"
  }
 },
 "nbformat": 4,
 "nbformat_minor": 5
}
