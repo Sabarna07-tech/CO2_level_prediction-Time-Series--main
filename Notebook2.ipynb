{
 "cells": [
  {
   "cell_type": "code",
   "execution_count": 1,
   "id": "b0035543",
   "metadata": {},
   "outputs": [],
   "source": [
    "import pandas as pd\n",
    "import matplotlib.pyplot as plt\n",
    "import numpy as np"
   ]
  },
  {
   "cell_type": "code",
   "execution_count": 2,
   "id": "035c2fd7",
   "metadata": {},
   "outputs": [],
   "source": [
    "from tensorflow.keras.layers import LSTM,Dense\n",
    "from tensorflow.keras.models import Sequential\n",
    "from tensorflow.keras.optimizers import Adam"
   ]
  },
  {
   "cell_type": "code",
   "execution_count": 3,
   "id": "4be5934f",
   "metadata": {},
   "outputs": [],
   "source": [
    "from sklearn.metrics import mean_squared_error as MSE"
   ]
  },
  {
   "cell_type": "code",
   "execution_count": 4,
   "id": "008da989",
   "metadata": {},
   "outputs": [
    {
     "data": {
      "text/html": [
       "<div>\n",
       "<style scoped>\n",
       "    .dataframe tbody tr th:only-of-type {\n",
       "        vertical-align: middle;\n",
       "    }\n",
       "\n",
       "    .dataframe tbody tr th {\n",
       "        vertical-align: top;\n",
       "    }\n",
       "\n",
       "    .dataframe thead th {\n",
       "        text-align: right;\n",
       "    }\n",
       "</style>\n",
       "<table border=\"1\" class=\"dataframe\">\n",
       "  <thead>\n",
       "    <tr style=\"text-align: right;\">\n",
       "      <th></th>\n",
       "      <th>Year</th>\n",
       "      <th>Month</th>\n",
       "      <th>Indicator</th>\n",
       "      <th>Value</th>\n",
       "      <th>Unit</th>\n",
       "    </tr>\n",
       "  </thead>\n",
       "  <tbody>\n",
       "    <tr>\n",
       "      <th>0</th>\n",
       "      <td>2026</td>\n",
       "      <td>April</td>\n",
       "      <td>CO2 levels</td>\n",
       "      <td>405.67</td>\n",
       "      <td>PPM</td>\n",
       "    </tr>\n",
       "    <tr>\n",
       "      <th>1</th>\n",
       "      <td>2035</td>\n",
       "      <td>July</td>\n",
       "      <td>CO2 levels</td>\n",
       "      <td>423.20</td>\n",
       "      <td>PPM</td>\n",
       "    </tr>\n",
       "    <tr>\n",
       "      <th>2</th>\n",
       "      <td>2044</td>\n",
       "      <td>December</td>\n",
       "      <td>CO2 levels</td>\n",
       "      <td>445.10</td>\n",
       "      <td>PPM</td>\n",
       "    </tr>\n",
       "    <tr>\n",
       "      <th>3</th>\n",
       "      <td>2023</td>\n",
       "      <td>January</td>\n",
       "      <td>CO2 levels</td>\n",
       "      <td>396.04</td>\n",
       "      <td>PPM</td>\n",
       "    </tr>\n",
       "    <tr>\n",
       "      <th>4</th>\n",
       "      <td>2027</td>\n",
       "      <td>July</td>\n",
       "      <td>CO2 levels</td>\n",
       "      <td>406.57</td>\n",
       "      <td>PPM</td>\n",
       "    </tr>\n",
       "    <tr>\n",
       "      <th>...</th>\n",
       "      <td>...</td>\n",
       "      <td>...</td>\n",
       "      <td>...</td>\n",
       "      <td>...</td>\n",
       "      <td>...</td>\n",
       "    </tr>\n",
       "    <tr>\n",
       "      <th>749</th>\n",
       "      <td>2043</td>\n",
       "      <td>August</td>\n",
       "      <td>CO2 levels</td>\n",
       "      <td>439.02</td>\n",
       "      <td>PPM</td>\n",
       "    </tr>\n",
       "    <tr>\n",
       "      <th>750</th>\n",
       "      <td>2035</td>\n",
       "      <td>August</td>\n",
       "      <td>CO2 levels</td>\n",
       "      <td>420.46</td>\n",
       "      <td>PPM</td>\n",
       "    </tr>\n",
       "    <tr>\n",
       "      <th>751</th>\n",
       "      <td>2048</td>\n",
       "      <td>December</td>\n",
       "      <td>CO2 levels</td>\n",
       "      <td>455.69</td>\n",
       "      <td>PPM</td>\n",
       "    </tr>\n",
       "    <tr>\n",
       "      <th>752</th>\n",
       "      <td>2004</td>\n",
       "      <td>October</td>\n",
       "      <td>CO2 levels</td>\n",
       "      <td>361.59</td>\n",
       "      <td>PPM</td>\n",
       "    </tr>\n",
       "    <tr>\n",
       "      <th>753</th>\n",
       "      <td>2047</td>\n",
       "      <td>March</td>\n",
       "      <td>CO2 levels</td>\n",
       "      <td>453.40</td>\n",
       "      <td>PPM</td>\n",
       "    </tr>\n",
       "  </tbody>\n",
       "</table>\n",
       "<p>754 rows × 5 columns</p>\n",
       "</div>"
      ],
      "text/plain": [
       "     Year     Month   Indicator   Value Unit\n",
       "0    2026     April  CO2 levels  405.67  PPM\n",
       "1    2035      July  CO2 levels  423.20  PPM\n",
       "2    2044  December  CO2 levels  445.10  PPM\n",
       "3    2023   January  CO2 levels  396.04  PPM\n",
       "4    2027      July  CO2 levels  406.57  PPM\n",
       "..    ...       ...         ...     ...  ...\n",
       "749  2043    August  CO2 levels  439.02  PPM\n",
       "750  2035    August  CO2 levels  420.46  PPM\n",
       "751  2048  December  CO2 levels  455.69  PPM\n",
       "752  2004   October  CO2 levels  361.59  PPM\n",
       "753  2047     March  CO2 levels  453.40  PPM\n",
       "\n",
       "[754 rows x 5 columns]"
      ]
     },
     "execution_count": 4,
     "metadata": {},
     "output_type": "execute_result"
    }
   ],
   "source": [
    "df = pd.read_csv(\"train.csv\")\n",
    "df"
   ]
  },
  {
   "cell_type": "code",
   "execution_count": 5,
   "id": "0ed30174",
   "metadata": {},
   "outputs": [
    {
     "data": {
      "text/html": [
       "<div>\n",
       "<style scoped>\n",
       "    .dataframe tbody tr th:only-of-type {\n",
       "        vertical-align: middle;\n",
       "    }\n",
       "\n",
       "    .dataframe tbody tr th {\n",
       "        vertical-align: top;\n",
       "    }\n",
       "\n",
       "    .dataframe thead th {\n",
       "        text-align: right;\n",
       "    }\n",
       "</style>\n",
       "<table border=\"1\" class=\"dataframe\">\n",
       "  <thead>\n",
       "    <tr style=\"text-align: right;\">\n",
       "      <th></th>\n",
       "      <th>id</th>\n",
       "      <th>Month</th>\n",
       "      <th>Indicator</th>\n",
       "      <th>Unit</th>\n",
       "    </tr>\n",
       "    <tr>\n",
       "      <th>Year</th>\n",
       "      <th></th>\n",
       "      <th></th>\n",
       "      <th></th>\n",
       "      <th></th>\n",
       "    </tr>\n",
       "  </thead>\n",
       "  <tbody>\n",
       "    <tr>\n",
       "      <th>2049</th>\n",
       "      <td>0</td>\n",
       "      <td>January</td>\n",
       "      <td>CO2 levels</td>\n",
       "      <td>PPM</td>\n",
       "    </tr>\n",
       "    <tr>\n",
       "      <th>2049</th>\n",
       "      <td>1</td>\n",
       "      <td>February</td>\n",
       "      <td>CO2 levels</td>\n",
       "      <td>PPM</td>\n",
       "    </tr>\n",
       "    <tr>\n",
       "      <th>2049</th>\n",
       "      <td>2</td>\n",
       "      <td>March</td>\n",
       "      <td>CO2 levels</td>\n",
       "      <td>PPM</td>\n",
       "    </tr>\n",
       "    <tr>\n",
       "      <th>2049</th>\n",
       "      <td>3</td>\n",
       "      <td>April</td>\n",
       "      <td>CO2 levels</td>\n",
       "      <td>PPM</td>\n",
       "    </tr>\n",
       "    <tr>\n",
       "      <th>2049</th>\n",
       "      <td>4</td>\n",
       "      <td>May</td>\n",
       "      <td>CO2 levels</td>\n",
       "      <td>PPM</td>\n",
       "    </tr>\n",
       "    <tr>\n",
       "      <th>2049</th>\n",
       "      <td>5</td>\n",
       "      <td>June</td>\n",
       "      <td>CO2 levels</td>\n",
       "      <td>PPM</td>\n",
       "    </tr>\n",
       "    <tr>\n",
       "      <th>2049</th>\n",
       "      <td>6</td>\n",
       "      <td>July</td>\n",
       "      <td>CO2 levels</td>\n",
       "      <td>PPM</td>\n",
       "    </tr>\n",
       "    <tr>\n",
       "      <th>2049</th>\n",
       "      <td>7</td>\n",
       "      <td>August</td>\n",
       "      <td>CO2 levels</td>\n",
       "      <td>PPM</td>\n",
       "    </tr>\n",
       "    <tr>\n",
       "      <th>2049</th>\n",
       "      <td>8</td>\n",
       "      <td>September</td>\n",
       "      <td>CO2 levels</td>\n",
       "      <td>PPM</td>\n",
       "    </tr>\n",
       "    <tr>\n",
       "      <th>2049</th>\n",
       "      <td>9</td>\n",
       "      <td>October</td>\n",
       "      <td>CO2 levels</td>\n",
       "      <td>PPM</td>\n",
       "    </tr>\n",
       "    <tr>\n",
       "      <th>2049</th>\n",
       "      <td>10</td>\n",
       "      <td>November</td>\n",
       "      <td>CO2 levels</td>\n",
       "      <td>PPM</td>\n",
       "    </tr>\n",
       "    <tr>\n",
       "      <th>2049</th>\n",
       "      <td>11</td>\n",
       "      <td>December</td>\n",
       "      <td>CO2 levels</td>\n",
       "      <td>PPM</td>\n",
       "    </tr>\n",
       "    <tr>\n",
       "      <th>2050</th>\n",
       "      <td>12</td>\n",
       "      <td>January</td>\n",
       "      <td>CO2 levels</td>\n",
       "      <td>PPM</td>\n",
       "    </tr>\n",
       "    <tr>\n",
       "      <th>2050</th>\n",
       "      <td>13</td>\n",
       "      <td>February</td>\n",
       "      <td>CO2 levels</td>\n",
       "      <td>PPM</td>\n",
       "    </tr>\n",
       "    <tr>\n",
       "      <th>2050</th>\n",
       "      <td>14</td>\n",
       "      <td>March</td>\n",
       "      <td>CO2 levels</td>\n",
       "      <td>PPM</td>\n",
       "    </tr>\n",
       "    <tr>\n",
       "      <th>2050</th>\n",
       "      <td>15</td>\n",
       "      <td>April</td>\n",
       "      <td>CO2 levels</td>\n",
       "      <td>PPM</td>\n",
       "    </tr>\n",
       "    <tr>\n",
       "      <th>2050</th>\n",
       "      <td>16</td>\n",
       "      <td>May</td>\n",
       "      <td>CO2 levels</td>\n",
       "      <td>PPM</td>\n",
       "    </tr>\n",
       "    <tr>\n",
       "      <th>2050</th>\n",
       "      <td>17</td>\n",
       "      <td>June</td>\n",
       "      <td>CO2 levels</td>\n",
       "      <td>PPM</td>\n",
       "    </tr>\n",
       "    <tr>\n",
       "      <th>2050</th>\n",
       "      <td>18</td>\n",
       "      <td>July</td>\n",
       "      <td>CO2 levels</td>\n",
       "      <td>PPM</td>\n",
       "    </tr>\n",
       "    <tr>\n",
       "      <th>2050</th>\n",
       "      <td>19</td>\n",
       "      <td>August</td>\n",
       "      <td>CO2 levels</td>\n",
       "      <td>PPM</td>\n",
       "    </tr>\n",
       "    <tr>\n",
       "      <th>2050</th>\n",
       "      <td>20</td>\n",
       "      <td>September</td>\n",
       "      <td>CO2 levels</td>\n",
       "      <td>PPM</td>\n",
       "    </tr>\n",
       "    <tr>\n",
       "      <th>2050</th>\n",
       "      <td>21</td>\n",
       "      <td>October</td>\n",
       "      <td>CO2 levels</td>\n",
       "      <td>PPM</td>\n",
       "    </tr>\n",
       "    <tr>\n",
       "      <th>2050</th>\n",
       "      <td>22</td>\n",
       "      <td>November</td>\n",
       "      <td>CO2 levels</td>\n",
       "      <td>PPM</td>\n",
       "    </tr>\n",
       "    <tr>\n",
       "      <th>2050</th>\n",
       "      <td>23</td>\n",
       "      <td>December</td>\n",
       "      <td>CO2 levels</td>\n",
       "      <td>PPM</td>\n",
       "    </tr>\n",
       "  </tbody>\n",
       "</table>\n",
       "</div>"
      ],
      "text/plain": [
       "      id      Month   Indicator Unit\n",
       "Year                                \n",
       "2049   0    January  CO2 levels  PPM\n",
       "2049   1   February  CO2 levels  PPM\n",
       "2049   2      March  CO2 levels  PPM\n",
       "2049   3      April  CO2 levels  PPM\n",
       "2049   4        May  CO2 levels  PPM\n",
       "2049   5       June  CO2 levels  PPM\n",
       "2049   6       July  CO2 levels  PPM\n",
       "2049   7     August  CO2 levels  PPM\n",
       "2049   8  September  CO2 levels  PPM\n",
       "2049   9    October  CO2 levels  PPM\n",
       "2049  10   November  CO2 levels  PPM\n",
       "2049  11   December  CO2 levels  PPM\n",
       "2050  12    January  CO2 levels  PPM\n",
       "2050  13   February  CO2 levels  PPM\n",
       "2050  14      March  CO2 levels  PPM\n",
       "2050  15      April  CO2 levels  PPM\n",
       "2050  16        May  CO2 levels  PPM\n",
       "2050  17       June  CO2 levels  PPM\n",
       "2050  18       July  CO2 levels  PPM\n",
       "2050  19     August  CO2 levels  PPM\n",
       "2050  20  September  CO2 levels  PPM\n",
       "2050  21    October  CO2 levels  PPM\n",
       "2050  22   November  CO2 levels  PPM\n",
       "2050  23   December  CO2 levels  PPM"
      ]
     },
     "execution_count": 5,
     "metadata": {},
     "output_type": "execute_result"
    }
   ],
   "source": [
    "df_test = pd.read_csv(\"test.csv\")\n",
    "df_test.index = df_test['Year']\n",
    "df_test.drop('Year',axis=1,inplace=True)\n",
    "df_test"
   ]
  },
  {
   "cell_type": "code",
   "execution_count": 6,
   "id": "7489a4c1",
   "metadata": {},
   "outputs": [
    {
     "data": {
      "text/html": [
       "<div>\n",
       "<style scoped>\n",
       "    .dataframe tbody tr th:only-of-type {\n",
       "        vertical-align: middle;\n",
       "    }\n",
       "\n",
       "    .dataframe tbody tr th {\n",
       "        vertical-align: top;\n",
       "    }\n",
       "\n",
       "    .dataframe thead th {\n",
       "        text-align: right;\n",
       "    }\n",
       "</style>\n",
       "<table border=\"1\" class=\"dataframe\">\n",
       "  <thead>\n",
       "    <tr style=\"text-align: right;\">\n",
       "      <th></th>\n",
       "      <th>Year</th>\n",
       "      <th>Month</th>\n",
       "      <th>Indicator</th>\n",
       "      <th>Value</th>\n",
       "      <th>Unit</th>\n",
       "    </tr>\n",
       "  </thead>\n",
       "  <tbody>\n",
       "    <tr>\n",
       "      <th>200</th>\n",
       "      <td>1986</td>\n",
       "      <td>October</td>\n",
       "      <td>CO2 levels</td>\n",
       "      <td>343.67</td>\n",
       "      <td>PPM</td>\n",
       "    </tr>\n",
       "    <tr>\n",
       "      <th>713</th>\n",
       "      <td>1986</td>\n",
       "      <td>July</td>\n",
       "      <td>CO2 levels</td>\n",
       "      <td>347.45</td>\n",
       "      <td>PPM</td>\n",
       "    </tr>\n",
       "    <tr>\n",
       "      <th>169</th>\n",
       "      <td>1986</td>\n",
       "      <td>August</td>\n",
       "      <td>CO2 levels</td>\n",
       "      <td>346.42</td>\n",
       "      <td>PPM</td>\n",
       "    </tr>\n",
       "    <tr>\n",
       "      <th>507</th>\n",
       "      <td>1986</td>\n",
       "      <td>April</td>\n",
       "      <td>CO2 levels</td>\n",
       "      <td>349.20</td>\n",
       "      <td>PPM</td>\n",
       "    </tr>\n",
       "    <tr>\n",
       "      <th>71</th>\n",
       "      <td>1986</td>\n",
       "      <td>December</td>\n",
       "      <td>CO2 levels</td>\n",
       "      <td>346.14</td>\n",
       "      <td>PPM</td>\n",
       "    </tr>\n",
       "    <tr>\n",
       "      <th>...</th>\n",
       "      <td>...</td>\n",
       "      <td>...</td>\n",
       "      <td>...</td>\n",
       "      <td>...</td>\n",
       "      <td>...</td>\n",
       "    </tr>\n",
       "    <tr>\n",
       "      <th>361</th>\n",
       "      <td>2048</td>\n",
       "      <td>August</td>\n",
       "      <td>CO2 levels</td>\n",
       "      <td>454.06</td>\n",
       "      <td>PPM</td>\n",
       "    </tr>\n",
       "    <tr>\n",
       "      <th>693</th>\n",
       "      <td>2048</td>\n",
       "      <td>February</td>\n",
       "      <td>CO2 levels</td>\n",
       "      <td>455.77</td>\n",
       "      <td>PPM</td>\n",
       "    </tr>\n",
       "    <tr>\n",
       "      <th>349</th>\n",
       "      <td>2048</td>\n",
       "      <td>November</td>\n",
       "      <td>CO2 levels</td>\n",
       "      <td>454.43</td>\n",
       "      <td>PPM</td>\n",
       "    </tr>\n",
       "    <tr>\n",
       "      <th>256</th>\n",
       "      <td>2048</td>\n",
       "      <td>April</td>\n",
       "      <td>CO2 levels</td>\n",
       "      <td>458.10</td>\n",
       "      <td>PPM</td>\n",
       "    </tr>\n",
       "    <tr>\n",
       "      <th>181</th>\n",
       "      <td>2048</td>\n",
       "      <td>May</td>\n",
       "      <td>CO2 levels</td>\n",
       "      <td>459.04</td>\n",
       "      <td>PPM</td>\n",
       "    </tr>\n",
       "  </tbody>\n",
       "</table>\n",
       "<p>754 rows × 5 columns</p>\n",
       "</div>"
      ],
      "text/plain": [
       "     Year     Month   Indicator   Value Unit\n",
       "200  1986   October  CO2 levels  343.67  PPM\n",
       "713  1986      July  CO2 levels  347.45  PPM\n",
       "169  1986    August  CO2 levels  346.42  PPM\n",
       "507  1986     April  CO2 levels  349.20  PPM\n",
       "71   1986  December  CO2 levels  346.14  PPM\n",
       "..    ...       ...         ...     ...  ...\n",
       "361  2048    August  CO2 levels  454.06  PPM\n",
       "693  2048  February  CO2 levels  455.77  PPM\n",
       "349  2048  November  CO2 levels  454.43  PPM\n",
       "256  2048     April  CO2 levels  458.10  PPM\n",
       "181  2048       May  CO2 levels  459.04  PPM\n",
       "\n",
       "[754 rows x 5 columns]"
      ]
     },
     "execution_count": 6,
     "metadata": {},
     "output_type": "execute_result"
    }
   ],
   "source": [
    "df = df.sort_values(by='Year')\n",
    "df"
   ]
  },
  {
   "cell_type": "code",
   "execution_count": 7,
   "id": "9c757aef",
   "metadata": {},
   "outputs": [
    {
     "data": {
      "text/plain": [
       "<matplotlib.collections.PathCollection at 0x1bed40da200>"
      ]
     },
     "execution_count": 7,
     "metadata": {},
     "output_type": "execute_result"
    },
    {
     "data": {
      "image/png": "[encoded data removed]",
      "text/plain": [
       "<Figure size 640x480 with 1 Axes>"
      ]
     },
     "metadata": {},
     "output_type": "display_data"
    }
   ],
   "source": [
    "plt.scatter(df.Year,df['Value'])"
   ]
  },
  {
   "cell_type": "code",
   "execution_count": 8,
   "id": "27f65845",
   "metadata": {},
   "outputs": [
    {
     "data": {
      "text/plain": [
       "Index([415, 582, 483, 739, 499], dtype='int64')"
      ]
     },
     "execution_count": 8,
     "metadata": {},
     "output_type": "execute_result"
    }
   ],
   "source": [
    "index = df[df['Value']>600].index\n",
    "index"
   ]
  },
  {
   "cell_type": "code",
   "execution_count": 9,
   "id": "d020ce95",
   "metadata": {},
   "outputs": [
    {
     "data": {
      "text/html": [
       "<div>\n",
       "<style scoped>\n",
       "    .dataframe tbody tr th:only-of-type {\n",
       "        vertical-align: middle;\n",
       "    }\n",
       "\n",
       "    .dataframe tbody tr th {\n",
       "        vertical-align: top;\n",
       "    }\n",
       "\n",
       "    .dataframe thead th {\n",
       "        text-align: right;\n",
       "    }\n",
       "</style>\n",
       "<table border=\"1\" class=\"dataframe\">\n",
       "  <thead>\n",
       "    <tr style=\"text-align: right;\">\n",
       "      <th></th>\n",
       "      <th>Year</th>\n",
       "      <th>Month</th>\n",
       "      <th>Indicator</th>\n",
       "      <th>Value</th>\n",
       "      <th>Unit</th>\n",
       "    </tr>\n",
       "  </thead>\n",
       "  <tbody>\n",
       "    <tr>\n",
       "      <th>200</th>\n",
       "      <td>1986</td>\n",
       "      <td>October</td>\n",
       "      <td>CO2 levels</td>\n",
       "      <td>343.67</td>\n",
       "      <td>PPM</td>\n",
       "    </tr>\n",
       "    <tr>\n",
       "      <th>713</th>\n",
       "      <td>1986</td>\n",
       "      <td>July</td>\n",
       "      <td>CO2 levels</td>\n",
       "      <td>347.45</td>\n",
       "      <td>PPM</td>\n",
       "    </tr>\n",
       "    <tr>\n",
       "      <th>169</th>\n",
       "      <td>1986</td>\n",
       "      <td>August</td>\n",
       "      <td>CO2 levels</td>\n",
       "      <td>346.42</td>\n",
       "      <td>PPM</td>\n",
       "    </tr>\n",
       "    <tr>\n",
       "      <th>507</th>\n",
       "      <td>1986</td>\n",
       "      <td>April</td>\n",
       "      <td>CO2 levels</td>\n",
       "      <td>349.20</td>\n",
       "      <td>PPM</td>\n",
       "    </tr>\n",
       "    <tr>\n",
       "      <th>71</th>\n",
       "      <td>1986</td>\n",
       "      <td>December</td>\n",
       "      <td>CO2 levels</td>\n",
       "      <td>346.14</td>\n",
       "      <td>PPM</td>\n",
       "    </tr>\n",
       "    <tr>\n",
       "      <th>...</th>\n",
       "      <td>...</td>\n",
       "      <td>...</td>\n",
       "      <td>...</td>\n",
       "      <td>...</td>\n",
       "      <td>...</td>\n",
       "    </tr>\n",
       "    <tr>\n",
       "      <th>361</th>\n",
       "      <td>2048</td>\n",
       "      <td>August</td>\n",
       "      <td>CO2 levels</td>\n",
       "      <td>454.06</td>\n",
       "      <td>PPM</td>\n",
       "    </tr>\n",
       "    <tr>\n",
       "      <th>693</th>\n",
       "      <td>2048</td>\n",
       "      <td>February</td>\n",
       "      <td>CO2 levels</td>\n",
       "      <td>455.77</td>\n",
       "      <td>PPM</td>\n",
       "    </tr>\n",
       "    <tr>\n",
       "      <th>349</th>\n",
       "      <td>2048</td>\n",
       "      <td>November</td>\n",
       "      <td>CO2 levels</td>\n",
       "      <td>454.43</td>\n",
       "      <td>PPM</td>\n",
       "    </tr>\n",
       "    <tr>\n",
       "      <th>256</th>\n",
       "      <td>2048</td>\n",
       "      <td>April</td>\n",
       "      <td>CO2 levels</td>\n",
       "      <td>458.10</td>\n",
       "      <td>PPM</td>\n",
       "    </tr>\n",
       "    <tr>\n",
       "      <th>181</th>\n",
       "      <td>2048</td>\n",
       "      <td>May</td>\n",
       "      <td>CO2 levels</td>\n",
       "      <td>459.04</td>\n",
       "      <td>PPM</td>\n",
       "    </tr>\n",
       "  </tbody>\n",
       "</table>\n",
       "<p>749 rows × 5 columns</p>\n",
       "</div>"
      ],
      "text/plain": [
       "     Year     Month   Indicator   Value Unit\n",
       "200  1986   October  CO2 levels  343.67  PPM\n",
       "713  1986      July  CO2 levels  347.45  PPM\n",
       "169  1986    August  CO2 levels  346.42  PPM\n",
       "507  1986     April  CO2 levels  349.20  PPM\n",
       "71   1986  December  CO2 levels  346.14  PPM\n",
       "..    ...       ...         ...     ...  ...\n",
       "361  2048    August  CO2 levels  454.06  PPM\n",
       "693  2048  February  CO2 levels  455.77  PPM\n",
       "349  2048  November  CO2 levels  454.43  PPM\n",
       "256  2048     April  CO2 levels  458.10  PPM\n",
       "181  2048       May  CO2 levels  459.04  PPM\n",
       "\n",
       "[749 rows x 5 columns]"
      ]
     },
     "execution_count": 9,
     "metadata": {},
     "output_type": "execute_result"
    }
   ],
   "source": [
    "df.drop(index,axis=0,inplace=True)\n",
    "df"
   ]
  },
  {
   "cell_type": "code",
   "execution_count": 10,
   "id": "05709afb",
   "metadata": {},
   "outputs": [
    {
     "data": {
      "text/plain": [
       "<matplotlib.collections.PathCollection at 0x1bed6332b30>"
      ]
     },
     "execution_count": 10,
     "metadata": {},
     "output_type": "execute_result"
    },
    {
     "data": {
      "image/png": "[encoded data removed]",
      "text/plain": [
       "<Figure size 640x480 with 1 Axes>"
      ]
     },
     "metadata": {},
     "output_type": "display_data"
    }
   ],
   "source": [
    "plt.scatter(df.Year,df['Value'])"
   ]
  },
  {
   "cell_type": "code",
   "execution_count": 11,
   "id": "87894381",
   "metadata": {},
   "outputs": [],
   "source": [
    "df.index = df['Year']"
   ]
  },
  {
   "cell_type": "code",
   "execution_count": 12,
   "id": "8e4034d8",
   "metadata": {},
   "outputs": [
    {
     "data": {
      "text/html": [
       "<div>\n",
       "<style scoped>\n",
       "    .dataframe tbody tr th:only-of-type {\n",
       "        vertical-align: middle;\n",
       "    }\n",
       "\n",
       "    .dataframe tbody tr th {\n",
       "        vertical-align: top;\n",
       "    }\n",
       "\n",
       "    .dataframe thead th {\n",
       "        text-align: right;\n",
       "    }\n",
       "</style>\n",
       "<table border=\"1\" class=\"dataframe\">\n",
       "  <thead>\n",
       "    <tr style=\"text-align: right;\">\n",
       "      <th></th>\n",
       "      <th>Month</th>\n",
       "      <th>Indicator</th>\n",
       "      <th>Value</th>\n",
       "      <th>Unit</th>\n",
       "    </tr>\n",
       "    <tr>\n",
       "      <th>Year</th>\n",
       "      <th></th>\n",
       "      <th></th>\n",
       "      <th></th>\n",
       "      <th></th>\n",
       "    </tr>\n",
       "  </thead>\n",
       "  <tbody>\n",
       "    <tr>\n",
       "      <th>1986</th>\n",
       "      <td>October</td>\n",
       "      <td>CO2 levels</td>\n",
       "      <td>343.67</td>\n",
       "      <td>PPM</td>\n",
       "    </tr>\n",
       "    <tr>\n",
       "      <th>1986</th>\n",
       "      <td>July</td>\n",
       "      <td>CO2 levels</td>\n",
       "      <td>347.45</td>\n",
       "      <td>PPM</td>\n",
       "    </tr>\n",
       "    <tr>\n",
       "      <th>1986</th>\n",
       "      <td>August</td>\n",
       "      <td>CO2 levels</td>\n",
       "      <td>346.42</td>\n",
       "      <td>PPM</td>\n",
       "    </tr>\n",
       "    <tr>\n",
       "      <th>1986</th>\n",
       "      <td>April</td>\n",
       "      <td>CO2 levels</td>\n",
       "      <td>349.20</td>\n",
       "      <td>PPM</td>\n",
       "    </tr>\n",
       "    <tr>\n",
       "      <th>1986</th>\n",
       "      <td>December</td>\n",
       "      <td>CO2 levels</td>\n",
       "      <td>346.14</td>\n",
       "      <td>PPM</td>\n",
       "    </tr>\n",
       "    <tr>\n",
       "      <th>...</th>\n",
       "      <td>...</td>\n",
       "      <td>...</td>\n",
       "      <td>...</td>\n",
       "      <td>...</td>\n",
       "    </tr>\n",
       "    <tr>\n",
       "      <th>2048</th>\n",
       "      <td>August</td>\n",
       "      <td>CO2 levels</td>\n",
       "      <td>454.06</td>\n",
       "      <td>PPM</td>\n",
       "    </tr>\n",
       "    <tr>\n",
       "      <th>2048</th>\n",
       "      <td>February</td>\n",
       "      <td>CO2 levels</td>\n",
       "      <td>455.77</td>\n",
       "      <td>PPM</td>\n",
       "    </tr>\n",
       "    <tr>\n",
       "      <th>2048</th>\n",
       "      <td>November</td>\n",
       "      <td>CO2 levels</td>\n",
       "      <td>454.43</td>\n",
       "      <td>PPM</td>\n",
       "    </tr>\n",
       "    <tr>\n",
       "      <th>2048</th>\n",
       "      <td>April</td>\n",
       "      <td>CO2 levels</td>\n",
       "      <td>458.10</td>\n",
       "      <td>PPM</td>\n",
       "    </tr>\n",
       "    <tr>\n",
       "      <th>2048</th>\n",
       "      <td>May</td>\n",
       "      <td>CO2 levels</td>\n",
       "      <td>459.04</td>\n",
       "      <td>PPM</td>\n",
       "    </tr>\n",
       "  </tbody>\n",
       "</table>\n",
       "<p>749 rows × 4 columns</p>\n",
       "</div>"
      ],
      "text/plain": [
       "         Month   Indicator   Value Unit\n",
       "Year                                   \n",
       "1986   October  CO2 levels  343.67  PPM\n",
       "1986      July  CO2 levels  347.45  PPM\n",
       "1986    August  CO2 levels  346.42  PPM\n",
       "1986     April  CO2 levels  349.20  PPM\n",
       "1986  December  CO2 levels  346.14  PPM\n",
       "...        ...         ...     ...  ...\n",
       "2048    August  CO2 levels  454.06  PPM\n",
       "2048  February  CO2 levels  455.77  PPM\n",
       "2048  November  CO2 levels  454.43  PPM\n",
       "2048     April  CO2 levels  458.10  PPM\n",
       "2048       May  CO2 levels  459.04  PPM\n",
       "\n",
       "[749 rows x 4 columns]"
      ]
     },
     "execution_count": 12,
     "metadata": {},
     "output_type": "execute_result"
    }
   ],
   "source": [
    "df.drop(['Year'],axis=1,inplace=True)\n",
    "df"
   ]
  },
  {
   "cell_type": "code",
   "execution_count": 13,
   "id": "da051cae",
   "metadata": {},
   "outputs": [
    {
     "data": {
      "text/html": [
       "<div>\n",
       "<style scoped>\n",
       "    .dataframe tbody tr th:only-of-type {\n",
       "        vertical-align: middle;\n",
       "    }\n",
       "\n",
       "    .dataframe tbody tr th {\n",
       "        vertical-align: top;\n",
       "    }\n",
       "\n",
       "    .dataframe thead th {\n",
       "        text-align: right;\n",
       "    }\n",
       "</style>\n",
       "<table border=\"1\" class=\"dataframe\">\n",
       "  <thead>\n",
       "    <tr style=\"text-align: right;\">\n",
       "      <th></th>\n",
       "      <th>Month</th>\n",
       "      <th>Indicator</th>\n",
       "      <th>Value</th>\n",
       "      <th>Unit</th>\n",
       "    </tr>\n",
       "    <tr>\n",
       "      <th>Year</th>\n",
       "      <th></th>\n",
       "      <th></th>\n",
       "      <th></th>\n",
       "      <th></th>\n",
       "    </tr>\n",
       "  </thead>\n",
       "  <tbody>\n",
       "    <tr>\n",
       "      <th>1986</th>\n",
       "      <td>October</td>\n",
       "      <td>CO2 levels</td>\n",
       "      <td>343.67</td>\n",
       "      <td>PPM</td>\n",
       "    </tr>\n",
       "    <tr>\n",
       "      <th>1986</th>\n",
       "      <td>July</td>\n",
       "      <td>CO2 levels</td>\n",
       "      <td>347.45</td>\n",
       "      <td>PPM</td>\n",
       "    </tr>\n",
       "    <tr>\n",
       "      <th>1986</th>\n",
       "      <td>August</td>\n",
       "      <td>CO2 levels</td>\n",
       "      <td>346.42</td>\n",
       "      <td>PPM</td>\n",
       "    </tr>\n",
       "    <tr>\n",
       "      <th>1986</th>\n",
       "      <td>April</td>\n",
       "      <td>CO2 levels</td>\n",
       "      <td>349.20</td>\n",
       "      <td>PPM</td>\n",
       "    </tr>\n",
       "    <tr>\n",
       "      <th>1986</th>\n",
       "      <td>December</td>\n",
       "      <td>CO2 levels</td>\n",
       "      <td>346.14</td>\n",
       "      <td>PPM</td>\n",
       "    </tr>\n",
       "    <tr>\n",
       "      <th>...</th>\n",
       "      <td>...</td>\n",
       "      <td>...</td>\n",
       "      <td>...</td>\n",
       "      <td>...</td>\n",
       "    </tr>\n",
       "    <tr>\n",
       "      <th>2048</th>\n",
       "      <td>January</td>\n",
       "      <td>CO2 levels</td>\n",
       "      <td>NaN</td>\n",
       "      <td>PPM</td>\n",
       "    </tr>\n",
       "    <tr>\n",
       "      <th>2048</th>\n",
       "      <td>October</td>\n",
       "      <td>CO2 levels</td>\n",
       "      <td>452.66</td>\n",
       "      <td>PPM</td>\n",
       "    </tr>\n",
       "    <tr>\n",
       "      <th>2048</th>\n",
       "      <td>December</td>\n",
       "      <td>CO2 levels</td>\n",
       "      <td>455.69</td>\n",
       "      <td>PPM</td>\n",
       "    </tr>\n",
       "    <tr>\n",
       "      <th>2048</th>\n",
       "      <td>June</td>\n",
       "      <td>CO2 levels</td>\n",
       "      <td>458.26</td>\n",
       "      <td>PPM</td>\n",
       "    </tr>\n",
       "    <tr>\n",
       "      <th>2048</th>\n",
       "      <td>May</td>\n",
       "      <td>CO2 levels</td>\n",
       "      <td>459.04</td>\n",
       "      <td>PPM</td>\n",
       "    </tr>\n",
       "  </tbody>\n",
       "</table>\n",
       "<p>749 rows × 4 columns</p>\n",
       "</div>"
      ],
      "text/plain": [
       "         Month   Indicator   Value Unit\n",
       "Year                                   \n",
       "1986   October  CO2 levels  343.67  PPM\n",
       "1986      July  CO2 levels  347.45  PPM\n",
       "1986    August  CO2 levels  346.42  PPM\n",
       "1986     April  CO2 levels  349.20  PPM\n",
       "1986  December  CO2 levels  346.14  PPM\n",
       "...        ...         ...     ...  ...\n",
       "2048   January  CO2 levels     NaN  PPM\n",
       "2048   October  CO2 levels  452.66  PPM\n",
       "2048  December  CO2 levels  455.69  PPM\n",
       "2048      June  CO2 levels  458.26  PPM\n",
       "2048       May  CO2 levels  459.04  PPM\n",
       "\n",
       "[749 rows x 4 columns]"
      ]
     },
     "execution_count": 13,
     "metadata": {},
     "output_type": "execute_result"
    }
   ],
   "source": [
    "df=df.sort_values(by='Year')\n",
    "df"
   ]
  },
  {
   "cell_type": "code",
   "execution_count": 14,
   "id": "f06ef65a",
   "metadata": {},
   "outputs": [
    {
     "data": {
      "text/plain": [
       "Month         0\n",
       "Indicator     0\n",
       "Value        18\n",
       "Unit          0\n",
       "dtype: int64"
      ]
     },
     "execution_count": 14,
     "metadata": {},
     "output_type": "execute_result"
    }
   ],
   "source": [
    "df.isnull().sum()"
   ]
  },
  {
   "cell_type": "code",
   "execution_count": 15,
   "id": "2139c413",
   "metadata": {},
   "outputs": [],
   "source": [
    "df.dropna(inplace=True)"
   ]
  },
  {
   "cell_type": "code",
   "execution_count": 16,
   "id": "c328f095",
   "metadata": {},
   "outputs": [
    {
     "data": {
      "text/plain": [
       "731"
      ]
     },
     "execution_count": 16,
     "metadata": {},
     "output_type": "execute_result"
    }
   ],
   "source": [
    "len(df)"
   ]
  },
  {
   "cell_type": "code",
   "execution_count": 17,
   "id": "462efb89",
   "metadata": {},
   "outputs": [
    {
     "data": {
      "text/plain": [
       "array(['April', 'August', 'December', 'February', 'January', 'July',\n",
       "       'June', 'March', 'May', 'November', 'October', 'September'],\n",
       "      dtype=object)"
      ]
     },
     "execution_count": 17,
     "metadata": {},
     "output_type": "execute_result"
    }
   ],
   "source": [
    "Months = np.sort(df['Month'].unique())\n",
    "Months"
   ]
  },
  {
   "cell_type": "code",
   "execution_count": 18,
   "id": "131d4c20",
   "metadata": {},
   "outputs": [],
   "source": [
    "Month_wise_data=[]\n",
    "for month in Months:\n",
    "    Month_wise_data.append(df[df['Month']==month]['Value'])"
   ]
  },
  {
   "cell_type": "code",
   "execution_count": 19,
   "id": "1749be01",
   "metadata": {},
   "outputs": [
    {
     "data": {
      "text/plain": [
       "Year\n",
       "1986    349.20\n",
       "1987    349.49\n",
       "1988    350.93\n",
       "1989    351.43\n",
       "1990    352.63\n",
       "         ...  \n",
       "2044    448.36\n",
       "2045    450.14\n",
       "2046    451.50\n",
       "2047    454.89\n",
       "2048    458.10\n",
       "Name: Value, Length: 62, dtype: float64"
      ]
     },
     "execution_count": 19,
     "metadata": {},
     "output_type": "execute_result"
    }
   ],
   "source": [
    "Month_wise_data[0]"
   ]
  },
  {
   "cell_type": "code",
   "execution_count": 20,
   "id": "49d37488",
   "metadata": {
    "scrolled": true
   },
   "outputs": [
    {
     "data": {
      "text/plain": [
       "{'April': Year\n",
       " 1986    349.20\n",
       " 1987    349.49\n",
       " 1988    350.93\n",
       " 1989    351.43\n",
       " 1990    352.63\n",
       "          ...  \n",
       " 2044    448.36\n",
       " 2045    450.14\n",
       " 2046    451.50\n",
       " 2047    454.89\n",
       " 2048    458.10\n",
       " Name: Value, Length: 62, dtype: float64,\n",
       " 'August': Year\n",
       " 1986    346.42\n",
       " 1988    347.49\n",
       " 1989    348.47\n",
       " 1990    349.14\n",
       " 1991    349.55\n",
       "          ...  \n",
       " 2044    442.70\n",
       " 2045    445.85\n",
       " 2046    447.88\n",
       " 2047    451.20\n",
       " 2048    454.06\n",
       " Name: Value, Length: 61, dtype: float64,\n",
       " 'December': Year\n",
       " 1986    346.14\n",
       " 1987    347.14\n",
       " 1989    348.71\n",
       " 1990    349.47\n",
       " 1991    350.19\n",
       " 1992    350.58\n",
       " 1993    351.36\n",
       " 1994    353.13\n",
       " 1995    354.16\n",
       " 1996    355.18\n",
       " 1997    356.53\n",
       " 1998    357.64\n",
       " 1999    358.61\n",
       " 2000    360.31\n",
       " 2001    361.50\n",
       " 2002    362.54\n",
       " 2003    363.86\n",
       " 2005    366.96\n",
       " 2006    368.40\n",
       " 2007    370.49\n",
       " 2008    372.12\n",
       " 2009    373.90\n",
       " 2010    374.86\n",
       " 2011    377.52\n",
       " 2012    379.50\n",
       " 2013    380.73\n",
       " 2014    382.24\n",
       " 2015    384.21\n",
       " 2016    386.78\n",
       " 2017    388.20\n",
       " 2018    389.85\n",
       " 2019    390.73\n",
       " 2020    391.25\n",
       " 2021    392.73\n",
       " 2022    395.01\n",
       " 2023    396.90\n",
       " 2024    398.63\n",
       " 2025    400.96\n",
       " 2026    404.03\n",
       " 2027    405.09\n",
       " 2028    406.81\n",
       " 2029    408.56\n",
       " 2030    411.38\n",
       " 2031    413.79\n",
       " 2032    415.45\n",
       " 2033    418.34\n",
       " 2034    420.22\n",
       " 2035    422.61\n",
       " 2036    424.37\n",
       " 2037    426.39\n",
       " 2038    428.99\n",
       " 2039    431.27\n",
       " 2040    434.03\n",
       " 2042    438.99\n",
       " 2043    442.27\n",
       " 2044    445.10\n",
       " 2045    447.70\n",
       " 2046    450.20\n",
       " 2047    453.18\n",
       " 2048    455.69\n",
       " Name: Value, dtype: float64,\n",
       " 'February': Year\n",
       " 1987    348.13\n",
       " 1988    348.68\n",
       " 1989    349.47\n",
       " 1990    350.41\n",
       " 1991    350.98\n",
       " 1992    352.01\n",
       " 1993    352.48\n",
       " 1994    353.76\n",
       " 1995    354.75\n",
       " 1996    355.47\n",
       " 1997    356.86\n",
       " 1998    358.58\n",
       " 1999    359.35\n",
       " 2000    360.39\n",
       " 2001    362.52\n",
       " 2002    363.78\n",
       " 2003    364.61\n",
       " 2004    366.01\n",
       " 2005    366.49\n",
       " 2006    368.79\n",
       " 2007    370.36\n",
       " 2008    372.17\n",
       " 2009    374.61\n",
       " 2010    375.94\n",
       " 2011    377.07\n",
       " 2012    379.41\n",
       " 2014    382.23\n",
       " 2015    383.81\n",
       " 2016    386.87\n",
       " 2017    388.77\n",
       " 2018    390.61\n",
       " 2019    391.40\n",
       " 2020    392.93\n",
       " 2022    394.94\n",
       " 2023    397.10\n",
       " 2024    399.70\n",
       " 2025    400.63\n",
       " 2026    402.71\n",
       " 2027    406.21\n",
       " 2028    406.68\n",
       " 2029    408.86\n",
       " 2030    410.71\n",
       " 2031    413.40\n",
       " 2032    415.86\n",
       " 2033    417.90\n",
       " 2034    420.64\n",
       " 2035    422.53\n",
       " 2036    424.67\n",
       " 2037    426.47\n",
       " 2038    429.45\n",
       " 2039    431.26\n",
       " 2040    433.44\n",
       " 2041    436.73\n",
       " 2042    438.10\n",
       " 2044    444.68\n",
       " 2045    447.33\n",
       " 2046    449.37\n",
       " 2047    453.16\n",
       " 2048    455.77\n",
       " Name: Value, dtype: float64,\n",
       " 'January': Year\n",
       " 1987    347.14\n",
       " 1988    348.07\n",
       " 1989    348.58\n",
       " 1990    349.73\n",
       " 1991    350.61\n",
       " 1992    351.53\n",
       " 1993    351.38\n",
       " 1994    352.68\n",
       " 1995    354.56\n",
       " 1996    354.83\n",
       " 1997    356.40\n",
       " 1998    357.57\n",
       " 1999    358.79\n",
       " 2000    359.45\n",
       " 2001    361.41\n",
       " 2002    362.29\n",
       " 2003    363.80\n",
       " 2004    364.72\n",
       " 2005    365.95\n",
       " 2006    368.43\n",
       " 2007    369.75\n",
       " 2008    371.69\n",
       " 2009    373.22\n",
       " 2010    375.02\n",
       " 2011    375.73\n",
       " 2012    378.63\n",
       " 2013    380.03\n",
       " 2014    381.46\n",
       " 2015    383.60\n",
       " 2016    385.56\n",
       " 2018    389.25\n",
       " 2019    390.42\n",
       " 2020    391.97\n",
       " 2021    392.81\n",
       " 2022    394.20\n",
       " 2023    396.04\n",
       " 2024    398.42\n",
       " 2025    399.56\n",
       " 2026    401.93\n",
       " 2027    405.19\n",
       " 2028    406.40\n",
       " 2030    409.97\n",
       " 2031    412.58\n",
       " 2032    414.89\n",
       " 2033    416.49\n",
       " 2034    419.74\n",
       " 2035    421.41\n",
       " 2036    424.36\n",
       " 2037    425.89\n",
       " 2038    427.80\n",
       " 2039    430.65\n",
       " 2040    432.64\n",
       " 2041    435.36\n",
       " 2042    437.84\n",
       " 2043    440.20\n",
       " 2044    443.00\n",
       " 2045    447.00\n",
       " 2046    448.97\n",
       " 2047    452.13\n",
       " Name: Value, dtype: float64,\n",
       " 'July': Year\n",
       " 1986    347.45\n",
       " 1987    348.19\n",
       " 1988    350.00\n",
       " 1989    350.43\n",
       " 1990    351.57\n",
       "          ...  \n",
       " 2044    445.05\n",
       " 2045    448.06\n",
       " 2046    449.79\n",
       " 2047    453.17\n",
       " 2048    456.08\n",
       " Name: Value, Length: 62, dtype: float64,\n",
       " 'June': Year\n",
       " 1986    348.96\n",
       " 1987    349.97\n",
       " 1988    351.55\n",
       " 1989    351.75\n",
       " 1990    352.68\n",
       "          ...  \n",
       " 2044    447.69\n",
       " 2045    449.99\n",
       " 2046    452.09\n",
       " 2047    455.58\n",
       " 2048    458.26\n",
       " Name: Value, Length: 62, dtype: float64,\n",
       " 'March': Year\n",
       " 1986    347.27\n",
       " 1987    348.32\n",
       " 1988    349.34\n",
       " 1989    350.39\n",
       " 1990    351.65\n",
       "          ...  \n",
       " 2044    445.57\n",
       " 2045    448.29\n",
       " 2046    450.55\n",
       " 2047    453.40\n",
       " 2048    456.21\n",
       " Name: Value, Length: 63, dtype: float64,\n",
       " 'May': Year\n",
       " 1986    349.26\n",
       " 1987    350.12\n",
       " 1988    352.04\n",
       " 1989    352.64\n",
       " 1990    353.12\n",
       "          ...  \n",
       " 2043    444.57\n",
       " 2044    448.69\n",
       " 2045    450.88\n",
       " 2046    452.58\n",
       " 2048    459.04\n",
       " Name: Value, Length: 61, dtype: float64,\n",
       " 'November': Year\n",
       " 1986    344.66\n",
       " 1987    346.29\n",
       " 1988    346.50\n",
       " 1989    347.71\n",
       " 1990    348.36\n",
       " 1991    348.78\n",
       " 1992    349.45\n",
       " 1994    351.76\n",
       " 1995    352.80\n",
       " 1996    353.45\n",
       " 1997    355.15\n",
       " 1998    356.41\n",
       " 1999    357.28\n",
       " 2000    359.15\n",
       " 2001    360.98\n",
       " 2002    361.14\n",
       " 2003    362.32\n",
       " 2004    363.18\n",
       " 2005    365.71\n",
       " 2006    367.14\n",
       " 2007    368.85\n",
       " 2008    371.03\n",
       " 2009    372.43\n",
       " 2011    375.97\n",
       " 2012    377.64\n",
       " 2013    379.20\n",
       " 2014    380.84\n",
       " 2015    382.89\n",
       " 2016    385.46\n",
       " 2017    386.71\n",
       " 2018    388.45\n",
       " 2019    389.28\n",
       " 2020    389.86\n",
       " 2021    391.08\n",
       " 2022    393.42\n",
       " 2024    397.14\n",
       " 2025    398.92\n",
       " 2026    402.24\n",
       " 2027    403.57\n",
       " 2028    405.38\n",
       " 2029    406.93\n",
       " 2030    409.67\n",
       " 2031    412.32\n",
       " 2033    416.39\n",
       " 2034    418.39\n",
       " 2035    420.97\n",
       " 2036    422.85\n",
       " 2037    424.85\n",
       " 2038    427.76\n",
       " 2039    429.53\n",
       " 2040    432.52\n",
       " 2041    434.90\n",
       " 2042    437.14\n",
       " 2043    440.30\n",
       " 2044    444.09\n",
       " 2045    445.84\n",
       " 2046    449.03\n",
       " 2047    451.53\n",
       " 2048    454.43\n",
       " Name: Value, dtype: float64,\n",
       " 'October': Year\n",
       " 1986    343.67\n",
       " 1987    344.66\n",
       " 1988    345.21\n",
       " 1989    346.84\n",
       " 1990    346.96\n",
       "          ...  \n",
       " 2044    441.97\n",
       " 2045    444.20\n",
       " 2046    446.81\n",
       " 2047    449.63\n",
       " 2048    452.66\n",
       " Name: Value, Length: 62, dtype: float64,\n",
       " 'September': Year\n",
       " 1986    344.52\n",
       " 1987    345.22\n",
       " 1988    345.59\n",
       " 1989    346.49\n",
       " 1990    347.88\n",
       "          ...  \n",
       " 2044    441.35\n",
       " 2045    443.93\n",
       " 2046    446.28\n",
       " 2047    449.64\n",
       " 2048    452.67\n",
       " Name: Value, Length: 61, dtype: float64}"
      ]
     },
     "execution_count": 20,
     "metadata": {},
     "output_type": "execute_result"
    }
   ],
   "source": [
    "Month_wise_data = dict([(month,data) for month,data in zip(Months,Month_wise_data)])\n",
    "Month_wise_data"
   ]
  },
  {
   "cell_type": "code",
   "execution_count": 21,
   "id": "dd9c9ee6",
   "metadata": {},
   "outputs": [
    {
     "name": "stdout",
     "output_type": "stream",
     "text": [
      "62\n",
      "61\n",
      "60\n",
      "59\n",
      "59\n",
      "62\n",
      "62\n",
      "63\n",
      "61\n",
      "59\n",
      "62\n",
      "61\n"
     ]
    }
   ],
   "source": [
    "for each in Month_wise_data:\n",
    "    print(len(Month_wise_data[each]))"
   ]
  },
  {
   "cell_type": "code",
   "execution_count": 22,
   "id": "c8389217",
   "metadata": {},
   "outputs": [
    {
     "data": {
      "text/plain": [
       "400"
      ]
     },
     "execution_count": 22,
     "metadata": {},
     "output_type": "execute_result"
    }
   ],
   "source": [
    "MAX = 400\n",
    "MAX"
   ]
  },
  {
   "cell_type": "code",
   "execution_count": 23,
   "id": "50222eb4",
   "metadata": {},
   "outputs": [],
   "source": [
    "for each in Month_wise_data:\n",
    "    Month_wise_data[each] = Month_wise_data[each]/MAX"
   ]
  },
  {
   "cell_type": "code",
   "execution_count": 24,
   "id": "7dd0d951",
   "metadata": {},
   "outputs": [
    {
     "data": {
      "text/plain": [
       "Year\n",
       "1986    0.873000\n",
       "1987    0.873725\n",
       "1988    0.877325\n",
       "1989    0.878575\n",
       "1990    0.881575\n",
       "          ...   \n",
       "2044    1.120900\n",
       "2045    1.125350\n",
       "2046    1.128750\n",
       "2047    1.137225\n",
       "2048    1.145250\n",
       "Name: Value, Length: 62, dtype: float64"
      ]
     },
     "execution_count": 24,
     "metadata": {},
     "output_type": "execute_result"
    }
   ],
   "source": [
    "Test=Month_wise_data['April']\n",
    "Test"
   ]
  },
  {
   "cell_type": "code",
   "execution_count": 25,
   "id": "392ec92d",
   "metadata": {},
   "outputs": [],
   "source": [
    "def Create_data(series,lag):\n",
    "    start = 0\n",
    "    end = lag\n",
    "    X = []\n",
    "    Y = []\n",
    "    while(end<len(series)):\n",
    "        X.append(series[start:end])\n",
    "        Y.append(series[end])\n",
    "        start += 1\n",
    "        end +=1\n",
    "    X = np.array(X)\n",
    "    Y = np.array(Y)\n",
    "    X = X.reshape(len(X),lag,1)\n",
    "    return X,Y"
   ]
  },
  {
   "cell_type": "code",
   "execution_count": 26,
   "id": "f496928d",
   "metadata": {},
   "outputs": [],
   "source": [
    "window = 3"
   ]
  },
  {
   "cell_type": "code",
   "execution_count": 27,
   "id": "caec6f76",
   "metadata": {},
   "outputs": [],
   "source": [
    "x_train,y_train = Create_data(Test.values[:50],window)\n",
    "x_test,y_test = Create_data(Test.values[47:],window)"
   ]
  },
  {
   "cell_type": "code",
   "execution_count": 28,
   "id": "b8b35c1c",
   "metadata": {},
   "outputs": [
    {
     "data": {
      "text/plain": [
       "59"
      ]
     },
     "execution_count": 28,
     "metadata": {},
     "output_type": "execute_result"
    }
   ],
   "source": [
    "len(y_train) + len(y_test)"
   ]
  },
  {
   "cell_type": "code",
   "execution_count": 29,
   "id": "8d0f5533",
   "metadata": {},
   "outputs": [
    {
     "data": {
      "text/plain": [
       "<matplotlib.legend.Legend at 0x1bed639e860>"
      ]
     },
     "execution_count": 29,
     "metadata": {},
     "output_type": "execute_result"
    },
    {
     "data": {
      "image/png": "[encoded data removed]",
      "text/plain": [
       "<Figure size 640x480 with 1 Axes>"
      ]
     },
     "metadata": {},
     "output_type": "display_data"
    }
   ],
   "source": [
    "plt.plot(Test[3:50].index,y_train,color='green',label='Train')\n",
    "plt.plot(Test[50:].index,y_test,color='yellow',label='Test')\n",
    "plt.scatter(Test.index,Test,label='Original')\n",
    "plt.legend()"
   ]
  },
  {
   "cell_type": "code",
   "execution_count": 30,
   "id": "311cdd05",
   "metadata": {},
   "outputs": [
    {
     "ename": "NameError",
     "evalue": "name 'april_model' is not defined",
     "output_type": "error",
     "traceback": [
      "\u001b[1;31m---------------------------------------------------------------------------\u001b[0m",
      "\u001b[1;31mNameError\u001b[0m                                 Traceback (most recent call last)",
      "Cell \u001b[1;32mIn[30], line 1\u001b[0m\n\u001b[1;32m----> 1\u001b[0m \u001b[38;5;28;01mdel\u001b[39;00m april_model\n",
      "\u001b[1;31mNameError\u001b[0m: name 'april_model' is not defined"
     ]
    }
   ],
   "source": [
    "del april_model"
   ]
  },
  {
   "cell_type": "code",
   "execution_count": 31,
   "id": "4c40c2b7",
   "metadata": {},
   "outputs": [
    {
     "name": "stdout",
     "output_type": "stream",
     "text": [
      "Model: \"sequential\"\n",
      "_________________________________________________________________\n",
      " Layer (type)                Output Shape              Param #   \n",
      "=================================================================\n",
      " lstm (LSTM)                 (None, 128)               66560     \n",
      "                                                                 \n",
      " dense (Dense)               (None, 1)                 129       \n",
      "                                                                 \n",
      "=================================================================\n",
      "Total params: 66689 (260.50 KB)\n",
      "Trainable params: 66689 (260.50 KB)\n",
      "Non-trainable params: 0 (0.00 Byte)\n",
      "_________________________________________________________________\n"
     ]
    }
   ],
   "source": [
    "april_model = Sequential()\n",
    "april_model.add(LSTM(128,input_shape=(window,1),activation='relu',return_sequences=False))\n",
    "april_model.add(Dense(1,activation='linear'))\n",
    "\n",
    "april_model.compile(optimizer=Adam(),loss='mean_squared_error')\n",
    "april_model.summary()"
   ]
  },
  {
   "cell_type": "code",
   "execution_count": 32,
   "id": "37e2a19a",
   "metadata": {},
   "outputs": [],
   "source": [
    "epochs=0"
   ]
  },
  {
   "cell_type": "code",
   "execution_count": 71,
   "id": "f94c16b5",
   "metadata": {
    "scrolled": false
   },
   "outputs": [
    {
     "name": "stdout",
     "output_type": "stream",
     "text": [
      "Epoch 1/10\n",
      "47/47 [==============================] - 0s 5ms/step - loss: 4.1434e-05 - val_loss: 6.9954e-06\n",
      "Epoch 2/10\n",
      "47/47 [==============================] - 0s 4ms/step - loss: 4.3874e-05 - val_loss: 1.0587e-04\n",
      "Epoch 3/10\n",
      "47/47 [==============================] - 0s 4ms/step - loss: 1.6348e-05 - val_loss: 3.3617e-05\n",
      "Epoch 4/10\n",
      "47/47 [==============================] - 0s 4ms/step - loss: 2.1820e-05 - val_loss: 2.5732e-05\n",
      "Epoch 5/10\n",
      "47/47 [==============================] - 0s 4ms/step - loss: 3.2618e-05 - val_loss: 6.3695e-05\n",
      "Epoch 6/10\n",
      "47/47 [==============================] - 0s 4ms/step - loss: 5.1666e-05 - val_loss: 1.9663e-05\n",
      "Epoch 7/10\n",
      "47/47 [==============================] - 0s 4ms/step - loss: 4.0721e-05 - val_loss: 1.5512e-04\n",
      "Epoch 8/10\n",
      "47/47 [==============================] - 0s 4ms/step - loss: 2.2015e-05 - val_loss: 1.2980e-04\n",
      "Epoch 9/10\n",
      "47/47 [==============================] - 0s 4ms/step - loss: 3.6226e-05 - val_loss: 9.0787e-05\n",
      "Epoch 10/10\n",
      "47/47 [==============================] - 0s 4ms/step - loss: 2.0737e-05 - val_loss: 7.2819e-06\n"
     ]
    }
   ],
   "source": [
    "epoch=10\n",
    "april_model.fit(x_train,y_train,epochs=epoch,batch_size=1,validation_data=(x_test,y_test))\n",
    "epochs += epoch"
   ]
  },
  {
   "cell_type": "code",
   "execution_count": 72,
   "id": "a9bf6a0b",
   "metadata": {},
   "outputs": [
    {
     "data": {
      "text/plain": [
       "130"
      ]
     },
     "execution_count": 72,
     "metadata": {},
     "output_type": "execute_result"
    }
   ],
   "source": [
    "epochs"
   ]
  },
  {
   "cell_type": "code",
   "execution_count": 73,
   "id": "8313bb3a",
   "metadata": {},
   "outputs": [
    {
     "name": "stdout",
     "output_type": "stream",
     "text": [
      "1/1 [==============================] - 0s 25ms/step\n"
     ]
    }
   ],
   "source": [
    "y_pred = april_model.predict(x_test).reshape(-1,)"
   ]
  },
  {
   "cell_type": "code",
   "execution_count": 74,
   "id": "50a685d5",
   "metadata": {},
   "outputs": [
    {
     "data": {
      "text/plain": [
       "1.0793908269141343"
      ]
     },
     "execution_count": 74,
     "metadata": {},
     "output_type": "execute_result"
    }
   ],
   "source": [
    "np.sqrt(MSE(y_test,y_pred))*MAX"
   ]
  },
  {
   "cell_type": "code",
   "execution_count": 75,
   "id": "f09cbcaf",
   "metadata": {},
   "outputs": [
    {
     "data": {
      "text/plain": [
       "array([1.07185 , 1.07985 , 1.08195 , 1.09005 , 1.09625 , 1.10415 ,\n",
       "       1.109175, 1.1209  , 1.12535 , 1.12875 , 1.137225, 1.14525 ])"
      ]
     },
     "execution_count": 75,
     "metadata": {},
     "output_type": "execute_result"
    }
   ],
   "source": [
    "y_test"
   ]
  },
  {
   "cell_type": "code",
   "execution_count": 76,
   "id": "4dff79d4",
   "metadata": {},
   "outputs": [
    {
     "data": {
      "text/plain": [
       "array([1.0715591, 1.0763959, 1.0814804, 1.0881549, 1.0948921, 1.1003051,\n",
       "       1.1085373, 1.1157337, 1.124433 , 1.1323048, 1.1408223, 1.1464382],\n",
       "      dtype=float32)"
      ]
     },
     "execution_count": 76,
     "metadata": {},
     "output_type": "execute_result"
    }
   ],
   "source": [
    "y_pred"
   ]
  },
  {
   "cell_type": "code",
   "execution_count": 77,
   "id": "06f1c4d9",
   "metadata": {},
   "outputs": [
    {
     "data": {
      "image/png": "[encoded data removed]",
      "text/plain": [
       "<Figure size 640x480 with 1 Axes>"
      ]
     },
     "metadata": {},
     "output_type": "display_data"
    }
   ],
   "source": [
    "plt.plot(range(len(y_test)),y_test*MAX,color='green',label='Original')\n",
    "plt.plot(range(len(y_pred)),y_pred*MAX,color='yellow',label='Predicted')\n",
    "plt.legend()\n",
    "plt.show()"
   ]
  },
  {
   "cell_type": "code",
   "execution_count": 78,
   "id": "f445f018",
   "metadata": {},
   "outputs": [
    {
     "name": "stdout",
     "output_type": "stream",
     "text": [
      "2/2 [==============================] - 0s 4ms/step\n"
     ]
    }
   ],
   "source": [
    "pred=april_model.predict(x_train)\n",
    "pred=np.mean(pred,axis=1).reshape(-1,)"
   ]
  },
  {
   "cell_type": "code",
   "execution_count": 79,
   "id": "b4f0cb42",
   "metadata": {},
   "outputs": [
    {
     "data": {
      "text/plain": [
       "2.0056210407689243"
      ]
     },
     "execution_count": 79,
     "metadata": {},
     "output_type": "execute_result"
    }
   ],
   "source": [
    "np.sqrt(MSE(y_train,pred))*MAX"
   ]
  },
  {
   "cell_type": "code",
   "execution_count": 80,
   "id": "576f7f24",
   "metadata": {},
   "outputs": [
    {
     "data": {
      "image/png": "[encoded data removed]",
      "text/plain": [
       "<Figure size 640x480 with 1 Axes>"
      ]
     },
     "metadata": {},
     "output_type": "display_data"
    }
   ],
   "source": [
    "plt.plot(range(len(y_train)),y_train*MAX,color='green',label='Original')\n",
    "plt.plot(range(len(pred)),pred*MAX,color='yellow',label='Predicted')\n",
    "plt.legend()\n",
    "plt.show()"
   ]
  },
  {
   "cell_type": "code",
   "execution_count": 43,
   "id": "29c80b2a",
   "metadata": {},
   "outputs": [],
   "source": [
    "class Predict:\n",
    "    def __init__(self,window:int,prev_data:np.ndarray,model):\n",
    "        self.__prev_data = list(prev_data)\n",
    "        self.predictions = []\n",
    "        self.__model = model\n",
    "    def predict(self,num_prediction:int):\n",
    "        del self.predictions\n",
    "        self.predictions = []\n",
    "        for _ in range(num_prediction):\n",
    "            print(self.__prev_data)\n",
    "            pred = self.__model.predict(np.array(self.__prev_data).reshape(1,window,1)).reshape(-1,)\n",
    "            print(pred)\n",
    "            self.predictions.append(pred[0])\n",
    "            self.__prev_data.append(pred[0])\n",
    "            self.__prev_data.pop(0)"
   ]
  },
  {
   "cell_type": "code",
   "execution_count": 95,
   "id": "c574814e",
   "metadata": {},
   "outputs": [
    {
     "data": {
      "text/plain": [
       "array([1.12875 , 1.137225, 1.14525 ])"
      ]
     },
     "execution_count": 95,
     "metadata": {},
     "output_type": "execute_result"
    }
   ],
   "source": [
    "prev_data = Test.values[-window:]\n",
    "prev_data"
   ]
  },
  {
   "cell_type": "code",
   "execution_count": 96,
   "id": "b1cec66c",
   "metadata": {},
   "outputs": [],
   "source": [
    "ob = Predict(window,prev_data=prev_data,model=april_model)"
   ]
  },
  {
   "cell_type": "code",
   "execution_count": 97,
   "id": "22ec51b1",
   "metadata": {},
   "outputs": [
    {
     "name": "stdout",
     "output_type": "stream",
     "text": [
      "[1.12875, 1.137225, 1.14525]\n",
      "1/1 [==============================] - 0s 23ms/step\n",
      "[1.1532419]\n",
      "[1.137225, 1.14525, 1.1532419]\n",
      "1/1 [==============================] - 0s 27ms/step\n",
      "[1.1625646]\n",
      "[1.14525, 1.1532419, 1.1625646]\n",
      "1/1 [==============================] - 0s 28ms/step\n",
      "[1.1720135]\n",
      "[1.1532419, 1.1625646, 1.1720135]\n",
      "1/1 [==============================] - 0s 27ms/step\n",
      "[1.182007]\n",
      "[1.1625646, 1.1720135, 1.182007]\n",
      "1/1 [==============================] - 0s 26ms/step\n",
      "[1.192937]\n"
     ]
    },
    {
     "data": {
      "text/plain": [
       "[1.1532419, 1.1625646, 1.1720135, 1.182007, 1.192937]"
      ]
     },
     "execution_count": 97,
     "metadata": {},
     "output_type": "execute_result"
    }
   ],
   "source": [
    "ob.predict(5)\n",
    "ob.predictions"
   ]
  },
  {
   "cell_type": "code",
   "execution_count": 98,
   "id": "729282bb",
   "metadata": {},
   "outputs": [
    {
     "data": {
      "text/plain": [
       "<matplotlib.legend.Legend at 0x1bedfe878e0>"
      ]
     },
     "execution_count": 98,
     "metadata": {},
     "output_type": "execute_result"
    },
    {
     "data": {
      "image/png": "[encoded data removed]",
      "text/plain": [
       "<Figure size 640x480 with 1 Axes>"
      ]
     },
     "metadata": {},
     "output_type": "display_data"
    }
   ],
   "source": [
    "plt.plot(Test.index,Test,color='green',label='Original')\n",
    "plt.plot(range(2049,2054),np.array(ob.predictions),color='red',label='Predicted')\n",
    "plt.legend()"
   ]
  },
  {
   "cell_type": "code",
   "execution_count": 90,
   "id": "f9a7125a",
   "metadata": {},
   "outputs": [
    {
     "data": {
      "text/plain": [
       "array([0.873   , 0.873725, 0.877325])"
      ]
     },
     "execution_count": 90,
     "metadata": {},
     "output_type": "execute_result"
    }
   ],
   "source": [
    "prev_data = Test.values[:window]\n",
    "prev_data"
   ]
  },
  {
   "cell_type": "code",
   "execution_count": 91,
   "id": "876f2d31",
   "metadata": {},
   "outputs": [],
   "source": [
    "ob = Predict(window,prev_data=prev_data,model=april_model)"
   ]
  },
  {
   "cell_type": "code",
   "execution_count": 92,
   "id": "b5079e32",
   "metadata": {},
   "outputs": [
    {
     "name": "stdout",
     "output_type": "stream",
     "text": [
      "[0.873, 0.873725, 0.877325]\n",
      "1/1 [==============================] - 0s 25ms/step\n",
      "[0.8777219]\n",
      "[0.873725, 0.877325, 0.8777219]\n",
      "1/1 [==============================] - 0s 22ms/step\n",
      "[0.87926716]\n",
      "[0.877325, 0.8777219, 0.87926716]\n",
      "1/1 [==============================] - 0s 29ms/step\n",
      "[0.8813508]\n",
      "[0.8777219, 0.87926716, 0.8813508]\n",
      "1/1 [==============================] - 0s 29ms/step\n",
      "[0.88247836]\n",
      "[0.87926716, 0.8813508, 0.88247836]\n",
      "1/1 [==============================] - 0s 29ms/step\n",
      "[0.8840809]\n",
      "[0.8813508, 0.88247836, 0.8840809]\n",
      "1/1 [==============================] - 0s 25ms/step\n",
      "[0.8857306]\n",
      "[0.88247836, 0.8840809, 0.8857306]\n",
      "1/1 [==============================] - 0s 27ms/step\n",
      "[0.88711166]\n",
      "[0.8840809, 0.8857306, 0.88711166]\n",
      "1/1 [==============================] - 0s 25ms/step\n",
      "[0.8886631]\n",
      "[0.8857306, 0.88711166, 0.8886631]\n",
      "1/1 [==============================] - 0s 31ms/step\n",
      "[0.89019036]\n",
      "[0.88711166, 0.8886631, 0.89019036]\n",
      "1/1 [==============================] - 0s 31ms/step\n",
      "[0.89164585]\n",
      "[0.8886631, 0.89019036, 0.89164585]\n",
      "1/1 [==============================] - 0s 29ms/step\n",
      "[0.89315593]\n",
      "[0.89019036, 0.89164585, 0.89315593]\n",
      "1/1 [==============================] - 0s 30ms/step\n",
      "[0.89464545]\n",
      "[0.89164585, 0.89315593, 0.89464545]\n",
      "1/1 [==============================] - 0s 35ms/step\n",
      "[0.8961167]\n",
      "[0.89315593, 0.89464545, 0.8961167]\n",
      "1/1 [==============================] - 0s 32ms/step\n",
      "[0.8976032]\n",
      "[0.89464545, 0.8961167, 0.8976032]\n",
      "1/1 [==============================] - 0s 30ms/step\n",
      "[0.89907914]\n",
      "[0.8961167, 0.8976032, 0.89907914]\n",
      "1/1 [==============================] - 0s 27ms/step\n",
      "[0.9005504]\n",
      "[0.8976032, 0.89907914, 0.9005504]\n",
      "1/1 [==============================] - 0s 30ms/step\n",
      "[0.9020256]\n",
      "[0.89907914, 0.9005504, 0.9020256]\n",
      "1/1 [==============================] - 0s 28ms/step\n",
      "[0.90349615]\n",
      "[0.9005504, 0.9020256, 0.90349615]\n",
      "1/1 [==============================] - 0s 27ms/step\n",
      "[0.9049663]\n",
      "[0.9020256, 0.90349615, 0.9049663]\n",
      "1/1 [==============================] - 0s 27ms/step\n",
      "[0.9064377]\n"
     ]
    }
   ],
   "source": [
    "ob.predict(20)"
   ]
  },
  {
   "cell_type": "code",
   "execution_count": 94,
   "id": "13392b72",
   "metadata": {},
   "outputs": [
    {
     "data": {
      "text/plain": [
       "<matplotlib.legend.Legend at 0x1bedddbfac0>"
      ]
     },
     "execution_count": 94,
     "metadata": {},
     "output_type": "execute_result"
    },
    {
     "data": {
      "image/png": "[encoded data removed]",
      "text/plain": [
       "<Figure size 640x480 with 1 Axes>"
      ]
     },
     "metadata": {},
     "output_type": "display_data"
    }
   ],
   "source": [
    "plt.plot(Test.index,Test,color='green',label='Original')\n",
    "plt.plot(range(1989,2009),np.array(ob.predictions),color='red',label='Predicted')\n",
    "plt.legend()"
   ]
  },
  {
   "cell_type": "code",
   "execution_count": null,
   "id": "3c8d35ed",
   "metadata": {},
   "outputs": [],
   "source": []
  },
  {
   "cell_type": "code",
   "execution_count": 48,
   "id": "e6567407",
   "metadata": {},
   "outputs": [
    {
     "data": {
      "text/plain": [
       "Index([1986, 1987, 1988, 1989, 1990, 1991, 1992, 1993, 1994, 1995, 1996, 1997,\n",
       "       1998, 1999, 2000, 2001, 2002, 2003, 2004, 2005, 2006, 2007, 2008, 2009,\n",
       "       2010, 2011, 2012, 2013, 2014, 2015, 2016, 2017, 2018, 2019, 2020, 2021,\n",
       "       2022, 2023, 2024, 2026, 2027, 2028, 2029, 2030, 2031, 2032, 2033, 2034,\n",
       "       2035, 2036, 2037, 2038, 2039, 2040, 2041, 2042, 2043, 2044, 2045, 2046,\n",
       "       2047, 2048],\n",
       "      dtype='int64', name='Year')"
      ]
     },
     "execution_count": 48,
     "metadata": {},
     "output_type": "execute_result"
    }
   ],
   "source": [
    "Test.index"
   ]
  },
  {
   "cell_type": "code",
   "execution_count": 76,
   "id": "3267faec",
   "metadata": {},
   "outputs": [
    {
     "data": {
      "text/plain": [
       "{'October': 0,\n",
       " 'July': 1,\n",
       " 'August': 2,\n",
       " 'April': 3,\n",
       " 'December': 4,\n",
       " 'June': 5,\n",
       " 'September': 6,\n",
       " 'May': 7,\n",
       " 'March': 8,\n",
       " 'November': 9,\n",
       " 'February': 10,\n",
       " 'January': 11}"
      ]
     },
     "execution_count": 76,
     "metadata": {},
     "output_type": "execute_result"
    }
   ],
   "source": [
    "test = df.copy()\n",
    "dic = dict([(each,i) for i,each in enumerate(df['Month'].unique())])\n",
    "dic"
   ]
  },
  {
   "cell_type": "code",
   "execution_count": 77,
   "id": "b2ca73b0",
   "metadata": {},
   "outputs": [
    {
     "data": {
      "text/html": [
       "<div>\n",
       "<style scoped>\n",
       "    .dataframe tbody tr th:only-of-type {\n",
       "        vertical-align: middle;\n",
       "    }\n",
       "\n",
       "    .dataframe tbody tr th {\n",
       "        vertical-align: top;\n",
       "    }\n",
       "\n",
       "    .dataframe thead th {\n",
       "        text-align: right;\n",
       "    }\n",
       "</style>\n",
       "<table border=\"1\" class=\"dataframe\">\n",
       "  <thead>\n",
       "    <tr style=\"text-align: right;\">\n",
       "      <th></th>\n",
       "      <th>Month</th>\n",
       "      <th>Indicator</th>\n",
       "      <th>Value</th>\n",
       "      <th>Unit</th>\n",
       "    </tr>\n",
       "    <tr>\n",
       "      <th>Year</th>\n",
       "      <th></th>\n",
       "      <th></th>\n",
       "      <th></th>\n",
       "      <th></th>\n",
       "    </tr>\n",
       "  </thead>\n",
       "  <tbody>\n",
       "    <tr>\n",
       "      <th>1986</th>\n",
       "      <td>0</td>\n",
       "      <td>CO2 levels</td>\n",
       "      <td>343.67</td>\n",
       "      <td>PPM</td>\n",
       "    </tr>\n",
       "    <tr>\n",
       "      <th>1986</th>\n",
       "      <td>1</td>\n",
       "      <td>CO2 levels</td>\n",
       "      <td>347.45</td>\n",
       "      <td>PPM</td>\n",
       "    </tr>\n",
       "    <tr>\n",
       "      <th>1986</th>\n",
       "      <td>2</td>\n",
       "      <td>CO2 levels</td>\n",
       "      <td>346.42</td>\n",
       "      <td>PPM</td>\n",
       "    </tr>\n",
       "    <tr>\n",
       "      <th>1986</th>\n",
       "      <td>3</td>\n",
       "      <td>CO2 levels</td>\n",
       "      <td>349.20</td>\n",
       "      <td>PPM</td>\n",
       "    </tr>\n",
       "    <tr>\n",
       "      <th>1986</th>\n",
       "      <td>4</td>\n",
       "      <td>CO2 levels</td>\n",
       "      <td>346.14</td>\n",
       "      <td>PPM</td>\n",
       "    </tr>\n",
       "    <tr>\n",
       "      <th>...</th>\n",
       "      <td>...</td>\n",
       "      <td>...</td>\n",
       "      <td>...</td>\n",
       "      <td>...</td>\n",
       "    </tr>\n",
       "    <tr>\n",
       "      <th>2048</th>\n",
       "      <td>8</td>\n",
       "      <td>CO2 levels</td>\n",
       "      <td>456.21</td>\n",
       "      <td>PPM</td>\n",
       "    </tr>\n",
       "    <tr>\n",
       "      <th>2048</th>\n",
       "      <td>0</td>\n",
       "      <td>CO2 levels</td>\n",
       "      <td>452.66</td>\n",
       "      <td>PPM</td>\n",
       "    </tr>\n",
       "    <tr>\n",
       "      <th>2048</th>\n",
       "      <td>4</td>\n",
       "      <td>CO2 levels</td>\n",
       "      <td>455.69</td>\n",
       "      <td>PPM</td>\n",
       "    </tr>\n",
       "    <tr>\n",
       "      <th>2048</th>\n",
       "      <td>5</td>\n",
       "      <td>CO2 levels</td>\n",
       "      <td>458.26</td>\n",
       "      <td>PPM</td>\n",
       "    </tr>\n",
       "    <tr>\n",
       "      <th>2048</th>\n",
       "      <td>7</td>\n",
       "      <td>CO2 levels</td>\n",
       "      <td>459.04</td>\n",
       "      <td>PPM</td>\n",
       "    </tr>\n",
       "  </tbody>\n",
       "</table>\n",
       "<p>731 rows × 4 columns</p>\n",
       "</div>"
      ],
      "text/plain": [
       "      Month   Indicator   Value Unit\n",
       "Year                                \n",
       "1986      0  CO2 levels  343.67  PPM\n",
       "1986      1  CO2 levels  347.45  PPM\n",
       "1986      2  CO2 levels  346.42  PPM\n",
       "1986      3  CO2 levels  349.20  PPM\n",
       "1986      4  CO2 levels  346.14  PPM\n",
       "...     ...         ...     ...  ...\n",
       "2048      8  CO2 levels  456.21  PPM\n",
       "2048      0  CO2 levels  452.66  PPM\n",
       "2048      4  CO2 levels  455.69  PPM\n",
       "2048      5  CO2 levels  458.26  PPM\n",
       "2048      7  CO2 levels  459.04  PPM\n",
       "\n",
       "[731 rows x 4 columns]"
      ]
     },
     "execution_count": 77,
     "metadata": {},
     "output_type": "execute_result"
    }
   ],
   "source": [
    "test['Month'] = test['Month'].map(dic)\n",
    "test"
   ]
  },
  {
   "cell_type": "code",
   "execution_count": 80,
   "id": "64104078",
   "metadata": {},
   "outputs": [
    {
     "data": {
      "text/plain": [
       "Index([1986, 1986, 1986, 1986, 1986, 1986, 1986, 1986, 1986, 1986,\n",
       "       ...\n",
       "       2048, 2048, 2048, 2048, 2048, 2048, 2048, 2048, 2048, 2048],\n",
       "      dtype='int64', name='Year', length=731)"
      ]
     },
     "execution_count": 80,
     "metadata": {},
     "output_type": "execute_result"
    }
   ],
   "source": [
    "test.index"
   ]
  },
  {
   "cell_type": "code",
   "execution_count": 81,
   "id": "f4c6fdb5",
   "metadata": {},
   "outputs": [
    {
     "data": {
      "text/html": [
       "<div>\n",
       "<style scoped>\n",
       "    .dataframe tbody tr th:only-of-type {\n",
       "        vertical-align: middle;\n",
       "    }\n",
       "\n",
       "    .dataframe tbody tr th {\n",
       "        vertical-align: top;\n",
       "    }\n",
       "\n",
       "    .dataframe thead th {\n",
       "        text-align: right;\n",
       "    }\n",
       "</style>\n",
       "<table border=\"1\" class=\"dataframe\">\n",
       "  <thead>\n",
       "    <tr style=\"text-align: right;\">\n",
       "      <th></th>\n",
       "      <th>Month</th>\n",
       "      <th>Indicator</th>\n",
       "      <th>Value</th>\n",
       "      <th>Unit</th>\n",
       "      <th>n</th>\n",
       "    </tr>\n",
       "    <tr>\n",
       "      <th>Year</th>\n",
       "      <th></th>\n",
       "      <th></th>\n",
       "      <th></th>\n",
       "      <th></th>\n",
       "      <th></th>\n",
       "    </tr>\n",
       "  </thead>\n",
       "  <tbody>\n",
       "    <tr>\n",
       "      <th>1986</th>\n",
       "      <td>0</td>\n",
       "      <td>CO2 levels</td>\n",
       "      <td>343.67</td>\n",
       "      <td>PPM</td>\n",
       "      <td>198600</td>\n",
       "    </tr>\n",
       "    <tr>\n",
       "      <th>1986</th>\n",
       "      <td>1</td>\n",
       "      <td>CO2 levels</td>\n",
       "      <td>347.45</td>\n",
       "      <td>PPM</td>\n",
       "      <td>198601</td>\n",
       "    </tr>\n",
       "    <tr>\n",
       "      <th>1986</th>\n",
       "      <td>2</td>\n",
       "      <td>CO2 levels</td>\n",
       "      <td>346.42</td>\n",
       "      <td>PPM</td>\n",
       "      <td>198602</td>\n",
       "    </tr>\n",
       "    <tr>\n",
       "      <th>1986</th>\n",
       "      <td>3</td>\n",
       "      <td>CO2 levels</td>\n",
       "      <td>349.20</td>\n",
       "      <td>PPM</td>\n",
       "      <td>198603</td>\n",
       "    </tr>\n",
       "    <tr>\n",
       "      <th>1986</th>\n",
       "      <td>4</td>\n",
       "      <td>CO2 levels</td>\n",
       "      <td>346.14</td>\n",
       "      <td>PPM</td>\n",
       "      <td>198604</td>\n",
       "    </tr>\n",
       "    <tr>\n",
       "      <th>...</th>\n",
       "      <td>...</td>\n",
       "      <td>...</td>\n",
       "      <td>...</td>\n",
       "      <td>...</td>\n",
       "      <td>...</td>\n",
       "    </tr>\n",
       "    <tr>\n",
       "      <th>2048</th>\n",
       "      <td>8</td>\n",
       "      <td>CO2 levels</td>\n",
       "      <td>456.21</td>\n",
       "      <td>PPM</td>\n",
       "      <td>204808</td>\n",
       "    </tr>\n",
       "    <tr>\n",
       "      <th>2048</th>\n",
       "      <td>0</td>\n",
       "      <td>CO2 levels</td>\n",
       "      <td>452.66</td>\n",
       "      <td>PPM</td>\n",
       "      <td>204800</td>\n",
       "    </tr>\n",
       "    <tr>\n",
       "      <th>2048</th>\n",
       "      <td>4</td>\n",
       "      <td>CO2 levels</td>\n",
       "      <td>455.69</td>\n",
       "      <td>PPM</td>\n",
       "      <td>204804</td>\n",
       "    </tr>\n",
       "    <tr>\n",
       "      <th>2048</th>\n",
       "      <td>5</td>\n",
       "      <td>CO2 levels</td>\n",
       "      <td>458.26</td>\n",
       "      <td>PPM</td>\n",
       "      <td>204805</td>\n",
       "    </tr>\n",
       "    <tr>\n",
       "      <th>2048</th>\n",
       "      <td>7</td>\n",
       "      <td>CO2 levels</td>\n",
       "      <td>459.04</td>\n",
       "      <td>PPM</td>\n",
       "      <td>204807</td>\n",
       "    </tr>\n",
       "  </tbody>\n",
       "</table>\n",
       "<p>731 rows × 5 columns</p>\n",
       "</div>"
      ],
      "text/plain": [
       "      Month   Indicator   Value Unit       n\n",
       "Year                                        \n",
       "1986      0  CO2 levels  343.67  PPM  198600\n",
       "1986      1  CO2 levels  347.45  PPM  198601\n",
       "1986      2  CO2 levels  346.42  PPM  198602\n",
       "1986      3  CO2 levels  349.20  PPM  198603\n",
       "1986      4  CO2 levels  346.14  PPM  198604\n",
       "...     ...         ...     ...  ...     ...\n",
       "2048      8  CO2 levels  456.21  PPM  204808\n",
       "2048      0  CO2 levels  452.66  PPM  204800\n",
       "2048      4  CO2 levels  455.69  PPM  204804\n",
       "2048      5  CO2 levels  458.26  PPM  204805\n",
       "2048      7  CO2 levels  459.04  PPM  204807\n",
       "\n",
       "[731 rows x 5 columns]"
      ]
     },
     "execution_count": 81,
     "metadata": {},
     "output_type": "execute_result"
    }
   ],
   "source": [
    "test['n'] = test.index*100 + test.Month\n",
    "test"
   ]
  },
  {
   "cell_type": "code",
   "execution_count": 82,
   "id": "fe01f8bc",
   "metadata": {},
   "outputs": [
    {
     "data": {
      "text/html": [
       "<div>\n",
       "<style scoped>\n",
       "    .dataframe tbody tr th:only-of-type {\n",
       "        vertical-align: middle;\n",
       "    }\n",
       "\n",
       "    .dataframe tbody tr th {\n",
       "        vertical-align: top;\n",
       "    }\n",
       "\n",
       "    .dataframe thead th {\n",
       "        text-align: right;\n",
       "    }\n",
       "</style>\n",
       "<table border=\"1\" class=\"dataframe\">\n",
       "  <thead>\n",
       "    <tr style=\"text-align: right;\">\n",
       "      <th></th>\n",
       "      <th>Month</th>\n",
       "      <th>Indicator</th>\n",
       "      <th>Value</th>\n",
       "      <th>Unit</th>\n",
       "      <th>n</th>\n",
       "    </tr>\n",
       "    <tr>\n",
       "      <th>n</th>\n",
       "      <th></th>\n",
       "      <th></th>\n",
       "      <th></th>\n",
       "      <th></th>\n",
       "      <th></th>\n",
       "    </tr>\n",
       "  </thead>\n",
       "  <tbody>\n",
       "    <tr>\n",
       "      <th>198600</th>\n",
       "      <td>0</td>\n",
       "      <td>CO2 levels</td>\n",
       "      <td>343.67</td>\n",
       "      <td>PPM</td>\n",
       "      <td>198600</td>\n",
       "    </tr>\n",
       "    <tr>\n",
       "      <th>198601</th>\n",
       "      <td>1</td>\n",
       "      <td>CO2 levels</td>\n",
       "      <td>347.45</td>\n",
       "      <td>PPM</td>\n",
       "      <td>198601</td>\n",
       "    </tr>\n",
       "    <tr>\n",
       "      <th>198602</th>\n",
       "      <td>2</td>\n",
       "      <td>CO2 levels</td>\n",
       "      <td>346.42</td>\n",
       "      <td>PPM</td>\n",
       "      <td>198602</td>\n",
       "    </tr>\n",
       "    <tr>\n",
       "      <th>198603</th>\n",
       "      <td>3</td>\n",
       "      <td>CO2 levels</td>\n",
       "      <td>349.20</td>\n",
       "      <td>PPM</td>\n",
       "      <td>198603</td>\n",
       "    </tr>\n",
       "    <tr>\n",
       "      <th>198604</th>\n",
       "      <td>4</td>\n",
       "      <td>CO2 levels</td>\n",
       "      <td>346.14</td>\n",
       "      <td>PPM</td>\n",
       "      <td>198604</td>\n",
       "    </tr>\n",
       "    <tr>\n",
       "      <th>...</th>\n",
       "      <td>...</td>\n",
       "      <td>...</td>\n",
       "      <td>...</td>\n",
       "      <td>...</td>\n",
       "      <td>...</td>\n",
       "    </tr>\n",
       "    <tr>\n",
       "      <th>204808</th>\n",
       "      <td>8</td>\n",
       "      <td>CO2 levels</td>\n",
       "      <td>456.21</td>\n",
       "      <td>PPM</td>\n",
       "      <td>204808</td>\n",
       "    </tr>\n",
       "    <tr>\n",
       "      <th>204800</th>\n",
       "      <td>0</td>\n",
       "      <td>CO2 levels</td>\n",
       "      <td>452.66</td>\n",
       "      <td>PPM</td>\n",
       "      <td>204800</td>\n",
       "    </tr>\n",
       "    <tr>\n",
       "      <th>204804</th>\n",
       "      <td>4</td>\n",
       "      <td>CO2 levels</td>\n",
       "      <td>455.69</td>\n",
       "      <td>PPM</td>\n",
       "      <td>204804</td>\n",
       "    </tr>\n",
       "    <tr>\n",
       "      <th>204805</th>\n",
       "      <td>5</td>\n",
       "      <td>CO2 levels</td>\n",
       "      <td>458.26</td>\n",
       "      <td>PPM</td>\n",
       "      <td>204805</td>\n",
       "    </tr>\n",
       "    <tr>\n",
       "      <th>204807</th>\n",
       "      <td>7</td>\n",
       "      <td>CO2 levels</td>\n",
       "      <td>459.04</td>\n",
       "      <td>PPM</td>\n",
       "      <td>204807</td>\n",
       "    </tr>\n",
       "  </tbody>\n",
       "</table>\n",
       "<p>731 rows × 5 columns</p>\n",
       "</div>"
      ],
      "text/plain": [
       "        Month   Indicator   Value Unit       n\n",
       "n                                             \n",
       "198600      0  CO2 levels  343.67  PPM  198600\n",
       "198601      1  CO2 levels  347.45  PPM  198601\n",
       "198602      2  CO2 levels  346.42  PPM  198602\n",
       "198603      3  CO2 levels  349.20  PPM  198603\n",
       "198604      4  CO2 levels  346.14  PPM  198604\n",
       "...       ...         ...     ...  ...     ...\n",
       "204808      8  CO2 levels  456.21  PPM  204808\n",
       "204800      0  CO2 levels  452.66  PPM  204800\n",
       "204804      4  CO2 levels  455.69  PPM  204804\n",
       "204805      5  CO2 levels  458.26  PPM  204805\n",
       "204807      7  CO2 levels  459.04  PPM  204807\n",
       "\n",
       "[731 rows x 5 columns]"
      ]
     },
     "execution_count": 82,
     "metadata": {},
     "output_type": "execute_result"
    }
   ],
   "source": [
    "test.index = test.n\n",
    "test"
   ]
  },
  {
   "cell_type": "code",
   "execution_count": 84,
   "id": "f451ac45",
   "metadata": {},
   "outputs": [],
   "source": [
    "test.drop(['n'],axis=1,inplace=True)"
   ]
  },
  {
   "cell_type": "code",
   "execution_count": 86,
   "id": "4be95864",
   "metadata": {},
   "outputs": [
    {
     "data": {
      "text/plain": [
       "[<matplotlib.lines.Line2D at 0x1b3125a1bd0>]"
      ]
     },
     "execution_count": 86,
     "metadata": {},
     "output_type": "execute_result"
    },
    {
     "data": {
      "image/png": "[encoded data removed]",
      "text/plain": [
       "<Figure size 640x480 with 1 Axes>"
      ]
     },
     "metadata": {},
     "output_type": "display_data"
    }
   ],
   "source": [
    "plt.plot(test.index,test.Value)"
   ]
  },
  {
   "cell_type": "code",
   "execution_count": null,
   "id": "a87d7387",
   "metadata": {},
   "outputs": [],
   "source": []
  }
 ],
 "metadata": {
  "kernelspec": {
   "display_name": "Python 3 (ipykernel)",
   "language": "python",
   "name": "python3"
  },
  "language_info": {
   "codemirror_mode": {
    "name": "ipython",
    "version": 3
   },
   "file_extension": ".py",
   "mimetype": "text/x-python",
   "name": "python",
   "nbconvert_exporter": "python",
   "pygments_lexer": "ipython3",
   "version": "3.10.7"
  }
 },
 "nbformat": 4,
 "nbformat_minor": 5
}
